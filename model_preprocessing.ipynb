{
  "nbformat": 4,
  "nbformat_minor": 0,
  "metadata": {
    "colab": {
      "provenance": [],
      "gpuType": "T4"
    },
    "kernelspec": {
      "name": "python3",
      "display_name": "Python 3"
    },
    "language_info": {
      "name": "python"
    },
    "accelerator": "GPU"
  },
  "cells": [
    {
      "cell_type": "code",
      "source": [
        "!pip install keras-cv"
      ],
      "metadata": {
        "colab": {
          "base_uri": "https://localhost:8080/"
        },
        "id": "Movp9pOaqq8x",
        "outputId": "f8e1d148-6d60-4d55-9994-4cf64e912729"
      },
      "execution_count": 11,
      "outputs": [
        {
          "output_type": "stream",
          "name": "stdout",
          "text": [
            "Looking in indexes: https://pypi.org/simple, https://us-python.pkg.dev/colab-wheels/public/simple/\n",
            "Collecting keras-cv\n",
            "  Downloading keras_cv-0.5.0-py3-none-any.whl (721 kB)\n",
            "\u001b[2K     \u001b[90m━━━━━━━━━━━━━━━━━━━━━━━━━━━━━━━━━━━━━━\u001b[0m \u001b[32m721.6/721.6 kB\u001b[0m \u001b[31m28.3 MB/s\u001b[0m eta \u001b[36m0:00:00\u001b[0m\n",
            "\u001b[?25hRequirement already satisfied: packaging in /usr/local/lib/python3.10/dist-packages (from keras-cv) (23.1)\n",
            "Requirement already satisfied: absl-py in /usr/local/lib/python3.10/dist-packages (from keras-cv) (1.4.0)\n",
            "Requirement already satisfied: regex in /usr/local/lib/python3.10/dist-packages (from keras-cv) (2022.10.31)\n",
            "Requirement already satisfied: tensorflow-datasets in /usr/local/lib/python3.10/dist-packages (from keras-cv) (4.9.2)\n",
            "Requirement already satisfied: array-record in /usr/local/lib/python3.10/dist-packages (from tensorflow-datasets->keras-cv) (0.2.0)\n",
            "Requirement already satisfied: click in /usr/local/lib/python3.10/dist-packages (from tensorflow-datasets->keras-cv) (8.1.3)\n",
            "Requirement already satisfied: dm-tree in /usr/local/lib/python3.10/dist-packages (from tensorflow-datasets->keras-cv) (0.1.8)\n",
            "Requirement already satisfied: etils[enp,epath]>=0.9.0 in /usr/local/lib/python3.10/dist-packages (from tensorflow-datasets->keras-cv) (1.2.0)\n",
            "Requirement already satisfied: numpy in /usr/local/lib/python3.10/dist-packages (from tensorflow-datasets->keras-cv) (1.22.4)\n",
            "Requirement already satisfied: promise in /usr/local/lib/python3.10/dist-packages (from tensorflow-datasets->keras-cv) (2.3)\n",
            "Requirement already satisfied: protobuf>=3.20 in /usr/local/lib/python3.10/dist-packages (from tensorflow-datasets->keras-cv) (3.20.3)\n",
            "Requirement already satisfied: psutil in /usr/local/lib/python3.10/dist-packages (from tensorflow-datasets->keras-cv) (5.9.5)\n",
            "Requirement already satisfied: requests>=2.19.0 in /usr/local/lib/python3.10/dist-packages (from tensorflow-datasets->keras-cv) (2.27.1)\n",
            "Requirement already satisfied: tensorflow-metadata in /usr/local/lib/python3.10/dist-packages (from tensorflow-datasets->keras-cv) (1.13.1)\n",
            "Requirement already satisfied: termcolor in /usr/local/lib/python3.10/dist-packages (from tensorflow-datasets->keras-cv) (2.3.0)\n",
            "Requirement already satisfied: toml in /usr/local/lib/python3.10/dist-packages (from tensorflow-datasets->keras-cv) (0.10.2)\n",
            "Requirement already satisfied: tqdm in /usr/local/lib/python3.10/dist-packages (from tensorflow-datasets->keras-cv) (4.65.0)\n",
            "Requirement already satisfied: wrapt in /usr/local/lib/python3.10/dist-packages (from tensorflow-datasets->keras-cv) (1.14.1)\n",
            "Requirement already satisfied: importlib_resources in /usr/local/lib/python3.10/dist-packages (from etils[enp,epath]>=0.9.0->tensorflow-datasets->keras-cv) (5.12.0)\n",
            "Requirement already satisfied: typing_extensions in /usr/local/lib/python3.10/dist-packages (from etils[enp,epath]>=0.9.0->tensorflow-datasets->keras-cv) (4.5.0)\n",
            "Requirement already satisfied: zipp in /usr/local/lib/python3.10/dist-packages (from etils[enp,epath]>=0.9.0->tensorflow-datasets->keras-cv) (3.15.0)\n",
            "Requirement already satisfied: urllib3<1.27,>=1.21.1 in /usr/local/lib/python3.10/dist-packages (from requests>=2.19.0->tensorflow-datasets->keras-cv) (1.26.15)\n",
            "Requirement already satisfied: certifi>=2017.4.17 in /usr/local/lib/python3.10/dist-packages (from requests>=2.19.0->tensorflow-datasets->keras-cv) (2022.12.7)\n",
            "Requirement already satisfied: charset-normalizer~=2.0.0 in /usr/local/lib/python3.10/dist-packages (from requests>=2.19.0->tensorflow-datasets->keras-cv) (2.0.12)\n",
            "Requirement already satisfied: idna<4,>=2.5 in /usr/local/lib/python3.10/dist-packages (from requests>=2.19.0->tensorflow-datasets->keras-cv) (3.4)\n",
            "Requirement already satisfied: six in /usr/local/lib/python3.10/dist-packages (from promise->tensorflow-datasets->keras-cv) (1.16.0)\n",
            "Requirement already satisfied: googleapis-common-protos<2,>=1.52.0 in /usr/local/lib/python3.10/dist-packages (from tensorflow-metadata->tensorflow-datasets->keras-cv) (1.59.0)\n",
            "Installing collected packages: keras-cv\n",
            "Successfully installed keras-cv-0.5.0\n"
          ]
        }
      ]
    },
    {
      "cell_type": "code",
      "execution_count": 12,
      "metadata": {
        "id": "GwZbRk7tQ6L7"
      },
      "outputs": [],
      "source": [
        "import os\n",
        "import cv2\n",
        "from keras.applications import Xception\n",
        "from keras.layers import Dense, Flatten, Dropout\n",
        "from keras.models import Sequential\n",
        "import pandas as pd\n",
        "from keras.utils import image_dataset_from_directory\n",
        "from keras_cv.layers.preprocessing import RandomSaturation"
      ]
    },
    {
      "cell_type": "code",
      "source": [
        "from google.colab import drive\n",
        "drive.mount('/content/drive')"
      ],
      "metadata": {
        "colab": {
          "base_uri": "https://localhost:8080/"
        },
        "id": "jh58whakRTLa",
        "outputId": "51b9e5ad-eb7f-4340-8136-ef668143a16f"
      },
      "execution_count": 2,
      "outputs": [
        {
          "output_type": "stream",
          "name": "stdout",
          "text": [
            "Mounted at /content/drive\n"
          ]
        }
      ]
    },
    {
      "cell_type": "code",
      "source": [
        "import tensorflow as tf"
      ],
      "metadata": {
        "id": "eYwmb1O-R_a9"
      },
      "execution_count": 3,
      "outputs": []
    },
    {
      "cell_type": "code",
      "source": [
        "sess = tf.compat.v1.Session(config=tf.compat.v1.ConfigProto(log_device_placement=True))"
      ],
      "metadata": {
        "colab": {
          "base_uri": "https://localhost:8080/"
        },
        "id": "lSbooT8aSCap",
        "outputId": "03475894-a208-4b5e-985a-9de2dbabb6fe"
      },
      "execution_count": 4,
      "outputs": [
        {
          "output_type": "stream",
          "name": "stdout",
          "text": [
            "Device mapping:\n",
            "/job:localhost/replica:0/task:0/device:GPU:0 -> device: 0, name: Tesla T4, pci bus id: 0000:00:04.0, compute capability: 7.5\n",
            "\n"
          ]
        }
      ]
    },
    {
      "cell_type": "code",
      "source": [
        "model = Sequential()\n",
        "model.add(RandomSaturation(factor=(0.75, 0.75)))\n",
        "model.add(Xception(weights='imagenet', include_top=False, input_shape=(224, 224, 3), classes=2))\n",
        "model.add(Flatten())\n",
        "model.add(Dense(256, activation='sigmoid'))\n",
        "model.add(Dropout(rate=0.4))\n",
        "model.add(Dense(128, activation='sigmoid'))\n",
        "model.add(Dropout(rate=0.2))\n",
        "model.add(Dense(64, activation='sigmoid'))\n",
        "model.add(Dropout(rate=0.1))\n",
        "model.add(Dense(2, activation='softmax'))"
      ],
      "metadata": {
        "id": "5_fFUcYtSUq9"
      },
      "execution_count": 18,
      "outputs": []
    },
    {
      "cell_type": "code",
      "source": [
        "model.summary()"
      ],
      "metadata": {
        "colab": {
          "base_uri": "https://localhost:8080/"
        },
        "id": "1wbVCwUnTerc",
        "outputId": "1aafb4fe-aae3-4cc8-88b6-aa4a06790a14"
      },
      "execution_count": 25,
      "outputs": [
        {
          "output_type": "stream",
          "name": "stdout",
          "text": [
            "Model: \"sequential_3\"\n",
            "_________________________________________________________________\n",
            " Layer (type)                Output Shape              Param #   \n",
            "=================================================================\n",
            " random_saturation_1 (Random  (None, 224, 224, 3)      0         \n",
            " Saturation)                                                     \n",
            "                                                                 \n",
            " xception (Functional)       (None, 7, 7, 2048)        20861480  \n",
            "                                                                 \n",
            " flatten_3 (Flatten)         (None, 100352)            0         \n",
            "                                                                 \n",
            " dense_9 (Dense)             (None, 256)               25690368  \n",
            "                                                                 \n",
            " dropout_6 (Dropout)         (None, 256)               0         \n",
            "                                                                 \n",
            " dense_10 (Dense)            (None, 128)               32896     \n",
            "                                                                 \n",
            " dropout_7 (Dropout)         (None, 128)               0         \n",
            "                                                                 \n",
            " dense_11 (Dense)            (None, 64)                8256      \n",
            "                                                                 \n",
            " dropout_8 (Dropout)         (None, 64)                0         \n",
            "                                                                 \n",
            " dense_12 (Dense)            (None, 2)                 130       \n",
            "                                                                 \n",
            "=================================================================\n",
            "Total params: 46,593,130\n",
            "Trainable params: 46,538,602\n",
            "Non-trainable params: 54,528\n",
            "_________________________________________________________________\n"
          ]
        }
      ]
    },
    {
      "cell_type": "code",
      "source": [
        "model.compile(loss='categorical_crossentropy', optimizer='adam', metrics=['accuracy', tf.keras.metrics.Recall(), tf.keras.metrics.Precision()])"
      ],
      "metadata": {
        "id": "WqHKp295Te3a"
      },
      "execution_count": 19,
      "outputs": []
    },
    {
      "cell_type": "code",
      "source": [
        "train_ds = image_dataset_from_directory(\n",
        "    directory='/content/drive/My Drive/IndoorOutdoorClassification/images',\n",
        "    labels='inferred',\n",
        "    label_mode='categorical',\n",
        "    image_size=(224, 224),\n",
        "    shuffle=True,\n",
        "    seed=42,\n",
        "    validation_split=0.2,\n",
        "    subset='training'\n",
        ")\n",
        "val_ds = image_dataset_from_directory(\n",
        "    directory='/content/drive/My Drive/IndoorOutdoorClassification/images',\n",
        "    labels='inferred',\n",
        "    label_mode='categorical',\n",
        "    image_size=(224, 224),\n",
        "    shuffle=True,\n",
        "    seed=42,\n",
        "    validation_split=0.2,\n",
        "    subset='validation'\n",
        ")"
      ],
      "metadata": {
        "colab": {
          "base_uri": "https://localhost:8080/"
        },
        "id": "dwTCs0LwTgpX",
        "outputId": "d42f9a95-07e2-478b-e4c3-0709a79e806b"
      },
      "execution_count": 14,
      "outputs": [
        {
          "output_type": "stream",
          "name": "stdout",
          "text": [
            "Found 800 files belonging to 2 classes.\n",
            "Using 640 files for training.\n",
            "Found 800 files belonging to 2 classes.\n",
            "Using 160 files for validation.\n"
          ]
        }
      ]
    },
    {
      "cell_type": "code",
      "source": [
        "AUTOTUNE = tf.data.AUTOTUNE\n",
        "\n"
      ],
      "metadata": {
        "colab": {
          "base_uri": "https://localhost:8080/"
        },
        "id": "Edb4kQ0WTh4Y",
        "outputId": "cc9bdd52-3df1-4997-ca15-7adee6512029"
      },
      "execution_count": null,
      "outputs": [
        {
          "output_type": "stream",
          "name": "stdout",
          "text": [
            "Found 800 files belonging to 2 classes.\n",
            "Using 160 files for validation.\n"
          ]
        }
      ]
    },
    {
      "cell_type": "code",
      "source": [
        "# 200\n",
        "epochs=10\n",
        "history = model.fit(\n",
        "  train_ds,\n",
        "  validation_data=val_ds,\n",
        "  epochs=epochs\n",
        ")"
      ],
      "metadata": {
        "id": "Xy2XtycRTklt",
        "colab": {
          "base_uri": "https://localhost:8080/"
        },
        "outputId": "bf9d53a9-c6f3-4143-9dc4-0407ca303155"
      },
      "execution_count": 79,
      "outputs": [
        {
          "output_type": "stream",
          "name": "stdout",
          "text": [
            "Epoch 1/10\n",
            "20/20 [==============================] - 12s 562ms/step - loss: 1.0510e-04 - accuracy: 1.0000 - recall_3: 1.0000 - precision_3: 1.0000 - val_loss: 0.4521 - val_accuracy: 0.9187 - val_recall_3: 0.9187 - val_precision_3: 0.9187\n",
            "Epoch 2/10\n",
            "20/20 [==============================] - 14s 647ms/step - loss: 1.0717e-04 - accuracy: 1.0000 - recall_3: 1.0000 - precision_3: 1.0000 - val_loss: 0.4509 - val_accuracy: 0.9250 - val_recall_3: 0.9250 - val_precision_3: 0.9250\n",
            "Epoch 3/10\n",
            "20/20 [==============================] - 14s 651ms/step - loss: 1.2437e-04 - accuracy: 1.0000 - recall_3: 1.0000 - precision_3: 1.0000 - val_loss: 0.4484 - val_accuracy: 0.9250 - val_recall_3: 0.9250 - val_precision_3: 0.9250\n",
            "Epoch 4/10\n",
            "20/20 [==============================] - 13s 593ms/step - loss: 1.1295e-04 - accuracy: 1.0000 - recall_3: 1.0000 - precision_3: 1.0000 - val_loss: 0.4464 - val_accuracy: 0.9250 - val_recall_3: 0.9250 - val_precision_3: 0.9250\n",
            "Epoch 5/10\n",
            "20/20 [==============================] - 12s 568ms/step - loss: 1.1720e-04 - accuracy: 1.0000 - recall_3: 1.0000 - precision_3: 1.0000 - val_loss: 0.4580 - val_accuracy: 0.9250 - val_recall_3: 0.9250 - val_precision_3: 0.9250\n",
            "Epoch 6/10\n",
            "20/20 [==============================] - 12s 577ms/step - loss: 9.4552e-05 - accuracy: 1.0000 - recall_3: 1.0000 - precision_3: 1.0000 - val_loss: 0.4603 - val_accuracy: 0.9250 - val_recall_3: 0.9250 - val_precision_3: 0.9250\n",
            "Epoch 7/10\n",
            "20/20 [==============================] - 12s 580ms/step - loss: 9.5100e-05 - accuracy: 1.0000 - recall_3: 1.0000 - precision_3: 1.0000 - val_loss: 0.4594 - val_accuracy: 0.9250 - val_recall_3: 0.9250 - val_precision_3: 0.9250\n",
            "Epoch 8/10\n",
            "20/20 [==============================] - 12s 592ms/step - loss: 9.3752e-05 - accuracy: 1.0000 - recall_3: 1.0000 - precision_3: 1.0000 - val_loss: 0.4583 - val_accuracy: 0.9250 - val_recall_3: 0.9250 - val_precision_3: 0.9250\n",
            "Epoch 9/10\n",
            "20/20 [==============================] - 13s 641ms/step - loss: 1.0344e-04 - accuracy: 1.0000 - recall_3: 1.0000 - precision_3: 1.0000 - val_loss: 0.4586 - val_accuracy: 0.9250 - val_recall_3: 0.9250 - val_precision_3: 0.9250\n",
            "Epoch 10/10\n",
            "20/20 [==============================] - 12s 560ms/step - loss: 1.0179e-04 - accuracy: 1.0000 - recall_3: 1.0000 - precision_3: 1.0000 - val_loss: 0.4578 - val_accuracy: 0.9312 - val_recall_3: 0.9312 - val_precision_3: 0.9312\n"
          ]
        }
      ]
    },
    {
      "cell_type": "code",
      "source": [
        "save_directory='/content/drive/My Drive/IndoorOutdoorClassification/xception_saturate_200e.h5'\n",
        "model.save(save_directory)"
      ],
      "metadata": {
        "id": "t5SY3a4cYy_Z"
      },
      "execution_count": 81,
      "outputs": []
    },
    {
      "cell_type": "markdown",
      "source": [
        "## Evaluation"
      ],
      "metadata": {
        "id": "qXpxKnMuZKNq"
      }
    },
    {
      "cell_type": "code",
      "source": [
        "import numpy as np"
      ],
      "metadata": {
        "id": "k0NTLdykZS0v"
      },
      "execution_count": 22,
      "outputs": []
    },
    {
      "cell_type": "code",
      "source": [
        "def predict_image_softmax(model, path: str,  size_x: int = 224, size_y: int = 224):\n",
        "  img = cv2.imread(path)\n",
        "  img = cv2.resize(img, (size_x, size_y))\n",
        "  img = np.expand_dims(img, axis=0)\n",
        "  return model.predict(img, verbose=False)[0]"
      ],
      "metadata": {
        "id": "1nVCsWXfZKAo"
      },
      "execution_count": 23,
      "outputs": []
    },
    {
      "cell_type": "code",
      "source": [
        "prediction_dir = '/content/drive/My Drive/IndoorOutdoorClassification/images/indoor'\n",
        "cnt_zero = 0\n",
        "cnt_one = 0\n",
        "imgs = os.listdir(prediction_dir)\n",
        "\n",
        "for img in imgs:\n",
        "  try:\n",
        "    prediction = predict_image_softmax(model,f'{prediction_dir}/{img}')\n",
        "    # print(f'{img} - {prediction}')\n",
        "    if(prediction[0]>=prediction[1]):\n",
        "      cnt_zero += 1\n",
        "    else:\n",
        "      cnt_one += 1\n",
        "  except Exception:\n",
        "    print('except')\n",
        "print(f\"Class zero: {cnt_zero} \\n Class one: {cnt_one}\")"
      ],
      "metadata": {
        "id": "LRVA5wKHY5Tg",
        "colab": {
          "base_uri": "https://localhost:8080/"
        },
        "outputId": "6a620e7d-5c0c-4237-f664-648ebe64e346"
      },
      "execution_count": 67,
      "outputs": [
        {
          "output_type": "stream",
          "name": "stdout",
          "text": [
            "Class zero: 343 \n",
            " Class one: 57\n"
          ]
        }
      ]
    },
    {
      "cell_type": "code",
      "source": [
        "prediction_dir = '/content/drive/My Drive/IndoorOutdoorClassification/images/outdoor'\n",
        "cnt_zero = 0\n",
        "cnt_one = 0\n",
        "imgs = os.listdir(prediction_dir)\n",
        "\n",
        "for img in imgs:\n",
        "  try:\n",
        "    prediction = predict_image_softmax(model,f'{prediction_dir}/{img}')\n",
        "    # print(f'{img} - {prediction}')\n",
        "    if(prediction[0]>=prediction[1]):\n",
        "      cnt_zero += 1\n",
        "    else:\n",
        "      cnt_one += 1\n",
        "  except Exception:\n",
        "    print('except')\n",
        "print(f\"Class zero: {cnt_zero} \\n Class one: {cnt_one}\")"
      ],
      "metadata": {
        "id": "GCJ4zcCjZDww",
        "colab": {
          "base_uri": "https://localhost:8080/"
        },
        "outputId": "92067845-fa47-4644-d3ce-708cfb7f8448"
      },
      "execution_count": 66,
      "outputs": [
        {
          "output_type": "stream",
          "name": "stdout",
          "text": [
            "Class zero: 30 \n",
            " Class one: 370\n"
          ]
        }
      ]
    },
    {
      "cell_type": "code",
      "source": [
        "prediction_dir = '/content/drive/My Drive/IndoorOutdoorClassification/prediction_images/'\n",
        "cnt_zero = 0\n",
        "cnt_one = 0\n",
        "imgs = os.listdir(prediction_dir)\n",
        "imgs = sorted(imgs)\n",
        "for img in imgs:\n",
        "  try:\n",
        "    prediction = predict_image_softmax(model,f'{prediction_dir}/{img}')\n",
        "    print(f'{img} - {prediction} - {\"indoor\" if prediction[0]>=prediction[1] else \"outdoor\"}')\n",
        "    if(prediction[0]>=prediction[1]):\n",
        "      cnt_zero += 1\n",
        "    else:\n",
        "      cnt_one += 1\n",
        "  except Exception:\n",
        "    print('except')\n",
        "print(f\"Class zero: {cnt_zero} \\n Class one: {cnt_one}\")"
      ],
      "metadata": {
        "colab": {
          "base_uri": "https://localhost:8080/"
        },
        "id": "wIyg12FrZIQb",
        "outputId": "8b2aeedb-7a8b-4514-c6c8-223d61f057aa"
      },
      "execution_count": 80,
      "outputs": [
        {
          "output_type": "stream",
          "name": "stdout",
          "text": [
            "indoor1.jpg - [0.51319015 0.48680988] - indoor\n",
            "indoor2.jpg - [0.9900407  0.00995934] - indoor\n",
            "indoor3.jpg - [0.3811899  0.61881006] - outdoor\n",
            "indoor4.jpg - [9.9990773e-01 9.2235794e-05] - indoor\n",
            "outdoor1.jpg - [6.3341875e-05 9.9993670e-01] - outdoor\n",
            "outdoor2.jpg - [9.9974424e-01 2.5574345e-04] - indoor\n",
            "outdoor3.jpg - [3.4977973e-04 9.9965024e-01] - outdoor\n",
            "outdoor4.jpg - [0.03097816 0.96902186] - outdoor\n",
            "Class zero: 4 \n",
            " Class one: 4\n"
          ]
        }
      ]
    }
  ]
}