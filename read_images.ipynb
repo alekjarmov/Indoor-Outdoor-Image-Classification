{
 "cells": [
  {
   "cell_type": "code",
   "execution_count": 22,
   "outputs": [],
   "source": [
    "import pandas as pd\n",
    "import tensorflow as tf\n",
    "import os\n",
    "import cv2"
   ],
   "metadata": {
    "collapsed": false,
    "ExecuteTime": {
     "end_time": "2023-06-17T20:49:25.340863600Z",
     "start_time": "2023-06-17T20:49:25.335866Z"
    }
   }
  },
  {
   "cell_type": "code",
   "execution_count": 23,
   "outputs": [],
   "source": [
    "def get_image(is_indoor: bool, name: str):\n",
    "\n",
    "    if is_indoor:\n",
    "        img = cv2.imread(os.path.join('./images/indoor', name))\n",
    "    else:\n",
    "        img = cv2.imread(os.path.join('./images/outdoor', name))\n",
    "\n",
    "    img = cv2.resize(img, (224, 224))\n",
    "    return [img, 0 if is_indoor else 1]\n",
    "\n",
    "def load_dataset() -> pd.DataFrame:\n",
    "\n",
    "    indoor = os.listdir('images/indoor')\n",
    "    outdoor = os.listdir('images/outdoor')\n",
    "    df_images = pd.DataFrame(columns=['image', 'label'])\n",
    "    for name in indoor:\n",
    "        if name.endswith('.jpg'):\n",
    "            df_images.loc[len(df_images)] = get_image(True, name)\n",
    "    for name in outdoor:\n",
    "        if name.endswith('.jpg'):\n",
    "            df_images.loc[len(df_images)] = get_image(False, name)\n",
    "\n",
    "    return df"
   ],
   "metadata": {
    "collapsed": false,
    "ExecuteTime": {
     "end_time": "2023-06-17T20:49:25.350864700Z",
     "start_time": "2023-06-17T20:49:25.346864400Z"
    }
   }
  },
  {
   "cell_type": "code",
   "execution_count": 24,
   "outputs": [],
   "source": [
    "df = load_dataset()"
   ],
   "metadata": {
    "collapsed": false,
    "ExecuteTime": {
     "end_time": "2023-06-17T20:49:30.822387400Z",
     "start_time": "2023-06-17T20:49:25.351865800Z"
    }
   }
  },
  {
   "cell_type": "code",
   "execution_count": 27,
   "outputs": [],
   "source": [
    "df.to_csv('dataset.csv', index=False)"
   ],
   "metadata": {
    "collapsed": false,
    "ExecuteTime": {
     "end_time": "2023-06-17T20:52:54.073392400Z",
     "start_time": "2023-06-17T20:52:53.787175Z"
    }
   }
  }
 ],
 "metadata": {
  "kernelspec": {
   "display_name": "Python 3",
   "language": "python",
   "name": "python3"
  },
  "language_info": {
   "codemirror_mode": {
    "name": "ipython",
    "version": 2
   },
   "file_extension": ".py",
   "mimetype": "text/x-python",
   "name": "python",
   "nbconvert_exporter": "python",
   "pygments_lexer": "ipython2",
   "version": "2.7.6"
  }
 },
 "nbformat": 4,
 "nbformat_minor": 0
}
