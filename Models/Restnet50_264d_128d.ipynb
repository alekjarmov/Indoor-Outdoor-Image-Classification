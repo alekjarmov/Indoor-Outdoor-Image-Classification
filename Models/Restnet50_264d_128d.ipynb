{
  "cells": [
    {
      "cell_type": "code",
      "execution_count": 13,
      "metadata": {
        "collapsed": true,
        "ExecuteTime": {
          "end_time": "2023-06-17T21:38:45.965271600Z",
          "start_time": "2023-06-17T21:38:45.962270800Z"
        },
        "id": "2E4LoxDmWAAg"
      },
      "outputs": [],
      "source": [
        "import os\n",
        "import cv2\n",
        "from keras.applications import ResNet50V2\n",
        "from keras.layers import Dense, Flatten, Dropout\n",
        "from keras.models import Sequential\n",
        "import pandas as pd\n",
        "from keras.utils import image_dataset_from_directory"
      ]
    },
    {
      "cell_type": "code",
      "source": [
        "from google.colab import drive\n",
        "drive.mount('/content/drive')"
      ],
      "metadata": {
        "colab": {
          "base_uri": "https://localhost:8080/"
        },
        "id": "rvOb9Nf2Yn9k",
        "outputId": "cc568467-fbe2-4e13-d0ac-89daac1ed937"
      },
      "execution_count": 2,
      "outputs": [
        {
          "output_type": "stream",
          "name": "stdout",
          "text": [
            "Mounted at /content/drive\n"
          ]
        }
      ]
    },
    {
      "cell_type": "code",
      "source": [
        "import tensorflow as tf"
      ],
      "metadata": {
        "id": "0THwu3Yrak3z"
      },
      "execution_count": 3,
      "outputs": []
    },
    {
      "cell_type": "code",
      "source": [
        "tf. __version__"
      ],
      "metadata": {
        "colab": {
          "base_uri": "https://localhost:8080/",
          "height": 35
        },
        "id": "6AXvnbTDam-k",
        "outputId": "08e13bfe-b1ac-4e4e-829a-207fc9bd8310"
      },
      "execution_count": 4,
      "outputs": [
        {
          "output_type": "execute_result",
          "data": {
            "text/plain": [
              "'2.12.0'"
            ],
            "application/vnd.google.colaboratory.intrinsic+json": {
              "type": "string"
            }
          },
          "metadata": {},
          "execution_count": 4
        }
      ]
    },
    {
      "cell_type": "code",
      "source": [
        "sess = tf.compat.v1.Session(config=tf.compat.v1.ConfigProto(log_device_placement=True))"
      ],
      "metadata": {
        "colab": {
          "base_uri": "https://localhost:8080/"
        },
        "id": "1eZ9tpNaap_7",
        "outputId": "cf9630a1-5f9f-4fd0-8814-6d973aa1df89"
      },
      "execution_count": 5,
      "outputs": [
        {
          "output_type": "stream",
          "name": "stdout",
          "text": [
            "Device mapping:\n",
            "/job:localhost/replica:0/task:0/device:GPU:0 -> device: 0, name: Tesla T4, pci bus id: 0000:00:04.0, compute capability: 7.5\n",
            "\n"
          ]
        }
      ]
    },
    {
      "cell_type": "markdown",
      "source": [
        "## ResNet50 128, 64, 1\n"
      ],
      "metadata": {
        "id": "9ys_6kkaZH30"
      }
    },
    {
      "cell_type": "code",
      "source": [
        "model = Sequential()\n",
        "model.add(ResNet50V2(weights='imagenet', include_top=False, input_shape=(224, 224, 3), classes=2))\n",
        "model.add(Flatten())\n",
        "model.add(Dense(264, activation='sigmoid'))\n",
        "model.add(Dropout(rate=0.3))\n",
        "model.add(Dense(128, activation='sigmoid'))\n",
        "model.add(Dropout(rate=0.1))\n",
        "model.add(Dense(1, activation='sigmoid'))"
      ],
      "metadata": {
        "id": "5ouaOd7dYcH2"
      },
      "execution_count": 14,
      "outputs": []
    },
    {
      "cell_type": "code",
      "source": [
        "model.summary()"
      ],
      "metadata": {
        "colab": {
          "base_uri": "https://localhost:8080/"
        },
        "id": "Km6R-jsjZLNX",
        "outputId": "aae3ce61-4498-4857-b1ab-cc1e26c1ccd1"
      },
      "execution_count": 15,
      "outputs": [
        {
          "output_type": "stream",
          "name": "stdout",
          "text": [
            "Model: \"sequential_2\"\n",
            "_________________________________________________________________\n",
            " Layer (type)                Output Shape              Param #   \n",
            "=================================================================\n",
            " resnet50v2 (Functional)     (None, 7, 7, 2048)        23564800  \n",
            "                                                                 \n",
            " flatten_2 (Flatten)         (None, 100352)            0         \n",
            "                                                                 \n",
            " dense_4 (Dense)             (None, 264)               26493192  \n",
            "                                                                 \n",
            " dropout (Dropout)           (None, 264)               0         \n",
            "                                                                 \n",
            " dense_5 (Dense)             (None, 128)               33920     \n",
            "                                                                 \n",
            " dropout_1 (Dropout)         (None, 128)               0         \n",
            "                                                                 \n",
            " dense_6 (Dense)             (None, 1)                 129       \n",
            "                                                                 \n",
            "=================================================================\n",
            "Total params: 50,092,041\n",
            "Trainable params: 50,046,601\n",
            "Non-trainable params: 45,440\n",
            "_________________________________________________________________\n"
          ]
        }
      ]
    },
    {
      "cell_type": "code",
      "source": [
        "model.compile(loss='binary_crossentropy', optimizer='adam', metrics=['accuracy'])"
      ],
      "metadata": {
        "id": "ugWEr3iyZNV8"
      },
      "execution_count": 25,
      "outputs": []
    },
    {
      "cell_type": "code",
      "source": [
        "train_ds = image_dataset_from_directory(\n",
        "    directory='/content/drive/My Drive/IndoorOutdoorClassification/images',\n",
        "    labels='inferred',\n",
        "    label_mode='binary',\n",
        "    batch_size=32,\n",
        "    image_size=(224, 224),\n",
        "    shuffle=True,\n",
        "    seed=42,\n",
        "    validation_split=0.2,\n",
        "    subset='training'\n",
        ")\n"
      ],
      "metadata": {
        "colab": {
          "base_uri": "https://localhost:8080/"
        },
        "id": "1lQkttcPZPON",
        "outputId": "a0bbcf22-4d38-4f3e-bf95-418a8a272508"
      },
      "execution_count": 16,
      "outputs": [
        {
          "output_type": "stream",
          "name": "stdout",
          "text": [
            "Found 800 files belonging to 2 classes.\n",
            "Using 640 files for training.\n"
          ]
        }
      ]
    },
    {
      "cell_type": "code",
      "source": [
        "val_ds = image_dataset_from_directory(\n",
        "    directory='/content/drive/My Drive/IndoorOutdoorClassification/images',\n",
        "    labels='inferred',\n",
        "    label_mode='binary',\n",
        "    batch_size=32,\n",
        "    image_size=(224, 224),\n",
        "    shuffle=True,\n",
        "    seed=42,\n",
        "    validation_split=0.2,\n",
        "    subset='validation'\n",
        ")"
      ],
      "metadata": {
        "colab": {
          "base_uri": "https://localhost:8080/"
        },
        "id": "IAWJirqsZkpH",
        "outputId": "5ca3cfa9-f789-41c4-f561-36702c05778b"
      },
      "execution_count": 17,
      "outputs": [
        {
          "output_type": "stream",
          "name": "stdout",
          "text": [
            "Found 800 files belonging to 2 classes.\n",
            "Using 160 files for validation.\n"
          ]
        }
      ]
    },
    {
      "cell_type": "code",
      "source": [
        "epochs=100\n",
        "history = model.fit(\n",
        "  train_ds,\n",
        "  validation_data=val_ds,\n",
        "  epochs=epochs\n",
        ")"
      ],
      "metadata": {
        "colab": {
          "base_uri": "https://localhost:8080/"
        },
        "id": "Nv18kJAWa9wL",
        "outputId": "cb4875c2-95ab-4b4a-f707-51a5cedab5fa"
      },
      "execution_count": 20,
      "outputs": [
        {
          "output_type": "stream",
          "name": "stdout",
          "text": [
            "Epoch 1/100\n",
            "20/20 [==============================] - 41s 407ms/step - loss: 0.4739 - accuracy: 0.8141 - val_loss: 1.1991 - val_accuracy: 0.5188\n",
            "Epoch 2/100\n",
            "20/20 [==============================] - 8s 349ms/step - loss: 0.3667 - accuracy: 0.8672 - val_loss: 0.6871 - val_accuracy: 0.6625\n",
            "Epoch 3/100\n",
            "20/20 [==============================] - 8s 351ms/step - loss: 0.3669 - accuracy: 0.8609 - val_loss: 1.2667 - val_accuracy: 0.5063\n",
            "Epoch 4/100\n",
            "20/20 [==============================] - 9s 422ms/step - loss: 0.3062 - accuracy: 0.8703 - val_loss: 0.8004 - val_accuracy: 0.5063\n",
            "Epoch 5/100\n",
            "20/20 [==============================] - 7s 330ms/step - loss: 0.3615 - accuracy: 0.8609 - val_loss: 1.1946 - val_accuracy: 0.5063\n",
            "Epoch 6/100\n",
            "20/20 [==============================] - 7s 331ms/step - loss: 0.2913 - accuracy: 0.8969 - val_loss: 0.6899 - val_accuracy: 0.5500\n",
            "Epoch 7/100\n",
            "20/20 [==============================] - 7s 331ms/step - loss: 0.2396 - accuracy: 0.9141 - val_loss: 1.1759 - val_accuracy: 0.5125\n",
            "Epoch 8/100\n",
            "20/20 [==============================] - 8s 327ms/step - loss: 0.2331 - accuracy: 0.9266 - val_loss: 0.6330 - val_accuracy: 0.7500\n",
            "Epoch 9/100\n",
            "20/20 [==============================] - 8s 344ms/step - loss: 0.2836 - accuracy: 0.9016 - val_loss: 0.7048 - val_accuracy: 0.6313\n",
            "Epoch 10/100\n",
            "20/20 [==============================] - 8s 350ms/step - loss: 0.2332 - accuracy: 0.9172 - val_loss: 0.7349 - val_accuracy: 0.5813\n",
            "Epoch 11/100\n",
            "20/20 [==============================] - 8s 337ms/step - loss: 0.1349 - accuracy: 0.9594 - val_loss: 1.0276 - val_accuracy: 0.5688\n",
            "Epoch 12/100\n",
            "20/20 [==============================] - 8s 352ms/step - loss: 0.1014 - accuracy: 0.9688 - val_loss: 2.0710 - val_accuracy: 0.5125\n",
            "Epoch 13/100\n",
            "20/20 [==============================] - 7s 332ms/step - loss: 0.0742 - accuracy: 0.9828 - val_loss: 1.8667 - val_accuracy: 0.5500\n",
            "Epoch 14/100\n",
            "20/20 [==============================] - 7s 331ms/step - loss: 0.1059 - accuracy: 0.9672 - val_loss: 1.2134 - val_accuracy: 0.6250\n",
            "Epoch 15/100\n",
            "20/20 [==============================] - 7s 333ms/step - loss: 0.1527 - accuracy: 0.9438 - val_loss: 1.8602 - val_accuracy: 0.5125\n",
            "Epoch 16/100\n",
            "20/20 [==============================] - 7s 332ms/step - loss: 0.1417 - accuracy: 0.9578 - val_loss: 1.7683 - val_accuracy: 0.5125\n",
            "Epoch 17/100\n",
            "20/20 [==============================] - 8s 331ms/step - loss: 0.1163 - accuracy: 0.9594 - val_loss: 1.8003 - val_accuracy: 0.5500\n",
            "Epoch 18/100\n",
            "20/20 [==============================] - 8s 348ms/step - loss: 0.1465 - accuracy: 0.9563 - val_loss: 1.0114 - val_accuracy: 0.7375\n",
            "Epoch 19/100\n",
            "20/20 [==============================] - 8s 348ms/step - loss: 0.1339 - accuracy: 0.9547 - val_loss: 0.4807 - val_accuracy: 0.8500\n",
            "Epoch 20/100\n",
            "20/20 [==============================] - 7s 330ms/step - loss: 0.1086 - accuracy: 0.9672 - val_loss: 0.5244 - val_accuracy: 0.7875\n",
            "Epoch 21/100\n",
            "20/20 [==============================] - 7s 336ms/step - loss: 0.0786 - accuracy: 0.9797 - val_loss: 0.8764 - val_accuracy: 0.7063\n",
            "Epoch 22/100\n",
            "20/20 [==============================] - 7s 332ms/step - loss: 0.0735 - accuracy: 0.9781 - val_loss: 1.0482 - val_accuracy: 0.7000\n",
            "Epoch 23/100\n",
            "20/20 [==============================] - 8s 345ms/step - loss: 0.1344 - accuracy: 0.9563 - val_loss: 0.6720 - val_accuracy: 0.8188\n",
            "Epoch 24/100\n",
            "20/20 [==============================] - 7s 336ms/step - loss: 0.0855 - accuracy: 0.9766 - val_loss: 0.3612 - val_accuracy: 0.8813\n",
            "Epoch 25/100\n",
            "20/20 [==============================] - 7s 330ms/step - loss: 0.1013 - accuracy: 0.9672 - val_loss: 0.6328 - val_accuracy: 0.8062\n",
            "Epoch 26/100\n",
            "20/20 [==============================] - 7s 338ms/step - loss: 0.0639 - accuracy: 0.9812 - val_loss: 1.0537 - val_accuracy: 0.7188\n",
            "Epoch 27/100\n",
            "20/20 [==============================] - 8s 346ms/step - loss: 0.0994 - accuracy: 0.9656 - val_loss: 1.1431 - val_accuracy: 0.6875\n",
            "Epoch 28/100\n",
            "20/20 [==============================] - 7s 330ms/step - loss: 0.0739 - accuracy: 0.9750 - val_loss: 1.1391 - val_accuracy: 0.7063\n",
            "Epoch 29/100\n",
            "20/20 [==============================] - 7s 335ms/step - loss: 0.0494 - accuracy: 0.9891 - val_loss: 0.5688 - val_accuracy: 0.8438\n",
            "Epoch 30/100\n",
            "20/20 [==============================] - 8s 351ms/step - loss: 0.0768 - accuracy: 0.9734 - val_loss: 0.6552 - val_accuracy: 0.8313\n",
            "Epoch 31/100\n",
            "20/20 [==============================] - 7s 330ms/step - loss: 0.0624 - accuracy: 0.9828 - val_loss: 0.7730 - val_accuracy: 0.8125\n",
            "Epoch 32/100\n",
            "20/20 [==============================] - 7s 336ms/step - loss: 0.0511 - accuracy: 0.9875 - val_loss: 0.5518 - val_accuracy: 0.8625\n",
            "Epoch 33/100\n",
            "20/20 [==============================] - 7s 331ms/step - loss: 0.0533 - accuracy: 0.9828 - val_loss: 0.5020 - val_accuracy: 0.8562\n",
            "Epoch 34/100\n",
            "20/20 [==============================] - 8s 338ms/step - loss: 0.0960 - accuracy: 0.9688 - val_loss: 0.8279 - val_accuracy: 0.7937\n",
            "Epoch 35/100\n",
            "20/20 [==============================] - 7s 333ms/step - loss: 0.0636 - accuracy: 0.9859 - val_loss: 0.8076 - val_accuracy: 0.7875\n",
            "Epoch 36/100\n",
            "20/20 [==============================] - 8s 334ms/step - loss: 0.0596 - accuracy: 0.9844 - val_loss: 1.5437 - val_accuracy: 0.6625\n",
            "Epoch 37/100\n",
            "20/20 [==============================] - 8s 348ms/step - loss: 0.1368 - accuracy: 0.9594 - val_loss: 1.5867 - val_accuracy: 0.6375\n",
            "Epoch 38/100\n",
            "20/20 [==============================] - 8s 331ms/step - loss: 0.1293 - accuracy: 0.9547 - val_loss: 1.0017 - val_accuracy: 0.7312\n",
            "Epoch 39/100\n",
            "20/20 [==============================] - 8s 350ms/step - loss: 0.0629 - accuracy: 0.9812 - val_loss: 0.7048 - val_accuracy: 0.7937\n",
            "Epoch 40/100\n",
            "20/20 [==============================] - 7s 328ms/step - loss: 0.0507 - accuracy: 0.9875 - val_loss: 0.3872 - val_accuracy: 0.8875\n",
            "Epoch 41/100\n",
            "20/20 [==============================] - 7s 332ms/step - loss: 0.0316 - accuracy: 0.9875 - val_loss: 0.3182 - val_accuracy: 0.9187\n",
            "Epoch 42/100\n",
            "20/20 [==============================] - 8s 347ms/step - loss: 0.0288 - accuracy: 0.9937 - val_loss: 0.3112 - val_accuracy: 0.8938\n",
            "Epoch 43/100\n",
            "20/20 [==============================] - 7s 330ms/step - loss: 0.0599 - accuracy: 0.9812 - val_loss: 0.5272 - val_accuracy: 0.8375\n",
            "Epoch 44/100\n",
            "20/20 [==============================] - 7s 337ms/step - loss: 0.0136 - accuracy: 0.9969 - val_loss: 0.3928 - val_accuracy: 0.8813\n",
            "Epoch 45/100\n",
            "20/20 [==============================] - 7s 334ms/step - loss: 0.0175 - accuracy: 0.9969 - val_loss: 0.4413 - val_accuracy: 0.8938\n",
            "Epoch 46/100\n",
            "20/20 [==============================] - 8s 338ms/step - loss: 0.0166 - accuracy: 0.9953 - val_loss: 0.3545 - val_accuracy: 0.9062\n",
            "Epoch 47/100\n",
            "20/20 [==============================] - 8s 352ms/step - loss: 0.0399 - accuracy: 0.9906 - val_loss: 0.6372 - val_accuracy: 0.8625\n",
            "Epoch 48/100\n",
            "20/20 [==============================] - 7s 330ms/step - loss: 0.0142 - accuracy: 0.9969 - val_loss: 0.5731 - val_accuracy: 0.8687\n",
            "Epoch 49/100\n",
            "20/20 [==============================] - 7s 336ms/step - loss: 0.0234 - accuracy: 0.9937 - val_loss: 0.4148 - val_accuracy: 0.9062\n",
            "Epoch 50/100\n",
            "20/20 [==============================] - 7s 330ms/step - loss: 0.0051 - accuracy: 1.0000 - val_loss: 0.3761 - val_accuracy: 0.9125\n",
            "Epoch 51/100\n",
            "20/20 [==============================] - 7s 335ms/step - loss: 0.0066 - accuracy: 0.9984 - val_loss: 0.3325 - val_accuracy: 0.9062\n",
            "Epoch 52/100\n",
            "20/20 [==============================] - 7s 329ms/step - loss: 0.0337 - accuracy: 0.9891 - val_loss: 0.4803 - val_accuracy: 0.8813\n",
            "Epoch 53/100\n",
            "20/20 [==============================] - 8s 337ms/step - loss: 0.0234 - accuracy: 0.9937 - val_loss: 0.4062 - val_accuracy: 0.9062\n",
            "Epoch 54/100\n",
            "20/20 [==============================] - 8s 350ms/step - loss: 0.0100 - accuracy: 0.9953 - val_loss: 0.4786 - val_accuracy: 0.8875\n",
            "Epoch 55/100\n",
            "20/20 [==============================] - 8s 333ms/step - loss: 0.0036 - accuracy: 1.0000 - val_loss: 0.4276 - val_accuracy: 0.8938\n",
            "Epoch 56/100\n",
            "20/20 [==============================] - 8s 351ms/step - loss: 0.0125 - accuracy: 0.9969 - val_loss: 0.7153 - val_accuracy: 0.8625\n",
            "Epoch 57/100\n",
            "20/20 [==============================] - 8s 333ms/step - loss: 0.0200 - accuracy: 0.9937 - val_loss: 0.6172 - val_accuracy: 0.8687\n",
            "Epoch 58/100\n",
            "20/20 [==============================] - 7s 335ms/step - loss: 0.0279 - accuracy: 0.9922 - val_loss: 0.4655 - val_accuracy: 0.8938\n",
            "Epoch 59/100\n",
            "20/20 [==============================] - 7s 331ms/step - loss: 0.0281 - accuracy: 0.9906 - val_loss: 0.6365 - val_accuracy: 0.8438\n",
            "Epoch 60/100\n",
            "20/20 [==============================] - 7s 334ms/step - loss: 0.0111 - accuracy: 0.9969 - val_loss: 1.0972 - val_accuracy: 0.7937\n",
            "Epoch 61/100\n",
            "20/20 [==============================] - 7s 330ms/step - loss: 0.0392 - accuracy: 0.9906 - val_loss: 1.5137 - val_accuracy: 0.7312\n",
            "Epoch 62/100\n",
            "20/20 [==============================] - 7s 336ms/step - loss: 0.0232 - accuracy: 0.9953 - val_loss: 2.3098 - val_accuracy: 0.6125\n",
            "Epoch 63/100\n",
            "20/20 [==============================] - 7s 330ms/step - loss: 0.0278 - accuracy: 0.9906 - val_loss: 0.4922 - val_accuracy: 0.8813\n",
            "Epoch 64/100\n",
            "20/20 [==============================] - 8s 341ms/step - loss: 0.0311 - accuracy: 0.9922 - val_loss: 1.0122 - val_accuracy: 0.7688\n",
            "Epoch 65/100\n",
            "20/20 [==============================] - 8s 351ms/step - loss: 0.0292 - accuracy: 0.9906 - val_loss: 0.4550 - val_accuracy: 0.8875\n",
            "Epoch 66/100\n",
            "20/20 [==============================] - 8s 330ms/step - loss: 0.0319 - accuracy: 0.9891 - val_loss: 0.5434 - val_accuracy: 0.8438\n",
            "Epoch 67/100\n",
            "20/20 [==============================] - 8s 348ms/step - loss: 0.0308 - accuracy: 0.9922 - val_loss: 0.5141 - val_accuracy: 0.8813\n",
            "Epoch 68/100\n",
            "20/20 [==============================] - 7s 328ms/step - loss: 0.0169 - accuracy: 0.9969 - val_loss: 0.7389 - val_accuracy: 0.8500\n",
            "Epoch 69/100\n",
            "20/20 [==============================] - 8s 335ms/step - loss: 0.0092 - accuracy: 0.9984 - val_loss: 0.4641 - val_accuracy: 0.8813\n",
            "Epoch 70/100\n",
            "20/20 [==============================] - 8s 351ms/step - loss: 0.0050 - accuracy: 1.0000 - val_loss: 0.4849 - val_accuracy: 0.8813\n",
            "Epoch 71/100\n",
            "20/20 [==============================] - 8s 333ms/step - loss: 0.0039 - accuracy: 0.9984 - val_loss: 0.9652 - val_accuracy: 0.8000\n",
            "Epoch 72/100\n",
            "20/20 [==============================] - 8s 354ms/step - loss: 0.0123 - accuracy: 0.9984 - val_loss: 0.7289 - val_accuracy: 0.8562\n",
            "Epoch 73/100\n",
            "20/20 [==============================] - 7s 328ms/step - loss: 0.0080 - accuracy: 0.9969 - val_loss: 0.8645 - val_accuracy: 0.8375\n",
            "Epoch 74/100\n",
            "20/20 [==============================] - 8s 338ms/step - loss: 0.0105 - accuracy: 0.9953 - val_loss: 0.7060 - val_accuracy: 0.8625\n",
            "Epoch 75/100\n",
            "20/20 [==============================] - 8s 350ms/step - loss: 0.0027 - accuracy: 1.0000 - val_loss: 0.7604 - val_accuracy: 0.8500\n",
            "Epoch 76/100\n",
            "20/20 [==============================] - 8s 335ms/step - loss: 0.0077 - accuracy: 0.9969 - val_loss: 0.6702 - val_accuracy: 0.8687\n",
            "Epoch 77/100\n",
            "20/20 [==============================] - 8s 347ms/step - loss: 0.0028 - accuracy: 1.0000 - val_loss: 0.6748 - val_accuracy: 0.8625\n",
            "Epoch 78/100\n",
            "20/20 [==============================] - 8s 332ms/step - loss: 0.0029 - accuracy: 0.9984 - val_loss: 0.5841 - val_accuracy: 0.8875\n",
            "Epoch 79/100\n",
            "20/20 [==============================] - 8s 337ms/step - loss: 0.0102 - accuracy: 0.9984 - val_loss: 0.4927 - val_accuracy: 0.8813\n",
            "Epoch 80/100\n",
            "20/20 [==============================] - 7s 340ms/step - loss: 0.0101 - accuracy: 0.9984 - val_loss: 0.5010 - val_accuracy: 0.9000\n",
            "Epoch 81/100\n",
            "20/20 [==============================] - 7s 330ms/step - loss: 0.0064 - accuracy: 0.9984 - val_loss: 0.3233 - val_accuracy: 0.9375\n",
            "Epoch 82/100\n",
            "20/20 [==============================] - 8s 329ms/step - loss: 0.0677 - accuracy: 0.9766 - val_loss: 0.8717 - val_accuracy: 0.8188\n",
            "Epoch 83/100\n",
            "20/20 [==============================] - 8s 350ms/step - loss: 0.0639 - accuracy: 0.9797 - val_loss: 0.8695 - val_accuracy: 0.8188\n",
            "Epoch 84/100\n",
            "20/20 [==============================] - 7s 332ms/step - loss: 0.0446 - accuracy: 0.9844 - val_loss: 0.9377 - val_accuracy: 0.7812\n",
            "Epoch 85/100\n",
            "20/20 [==============================] - 7s 338ms/step - loss: 0.0818 - accuracy: 0.9719 - val_loss: 1.0333 - val_accuracy: 0.7625\n",
            "Epoch 86/100\n",
            "20/20 [==============================] - 7s 331ms/step - loss: 0.0569 - accuracy: 0.9797 - val_loss: 0.6641 - val_accuracy: 0.8188\n",
            "Epoch 87/100\n",
            "20/20 [==============================] - 7s 334ms/step - loss: 0.0226 - accuracy: 0.9937 - val_loss: 0.3041 - val_accuracy: 0.9187\n",
            "Epoch 88/100\n",
            "20/20 [==============================] - 7s 328ms/step - loss: 0.0204 - accuracy: 0.9906 - val_loss: 0.8809 - val_accuracy: 0.8125\n",
            "Epoch 89/100\n",
            "20/20 [==============================] - 8s 335ms/step - loss: 0.0155 - accuracy: 0.9953 - val_loss: 0.7084 - val_accuracy: 0.8562\n",
            "Epoch 90/100\n",
            "20/20 [==============================] - 8s 349ms/step - loss: 0.0109 - accuracy: 0.9969 - val_loss: 0.5593 - val_accuracy: 0.8875\n",
            "Epoch 91/100\n",
            "20/20 [==============================] - 7s 328ms/step - loss: 0.0026 - accuracy: 1.0000 - val_loss: 0.5730 - val_accuracy: 0.8750\n",
            "Epoch 92/100\n",
            "20/20 [==============================] - 7s 333ms/step - loss: 0.0021 - accuracy: 1.0000 - val_loss: 0.4911 - val_accuracy: 0.8813\n",
            "Epoch 93/100\n",
            "20/20 [==============================] - 7s 330ms/step - loss: 0.0018 - accuracy: 1.0000 - val_loss: 0.4655 - val_accuracy: 0.8938\n",
            "Epoch 94/100\n",
            "20/20 [==============================] - 8s 336ms/step - loss: 0.0095 - accuracy: 0.9984 - val_loss: 0.7705 - val_accuracy: 0.8625\n",
            "Epoch 95/100\n",
            "20/20 [==============================] - 7s 332ms/step - loss: 0.0082 - accuracy: 0.9969 - val_loss: 0.4771 - val_accuracy: 0.9000\n",
            "Epoch 96/100\n",
            "20/20 [==============================] - 7s 330ms/step - loss: 0.0053 - accuracy: 0.9984 - val_loss: 0.4386 - val_accuracy: 0.8875\n",
            "Epoch 97/100\n",
            "20/20 [==============================] - 8s 349ms/step - loss: 0.0422 - accuracy: 0.9906 - val_loss: 0.6959 - val_accuracy: 0.8438\n",
            "Epoch 98/100\n",
            "20/20 [==============================] - 7s 335ms/step - loss: 0.0035 - accuracy: 1.0000 - val_loss: 0.4800 - val_accuracy: 0.9187\n",
            "Epoch 99/100\n",
            "20/20 [==============================] - 7s 331ms/step - loss: 0.0138 - accuracy: 0.9969 - val_loss: 0.3851 - val_accuracy: 0.9062\n",
            "Epoch 100/100\n",
            "20/20 [==============================] - 7s 329ms/step - loss: 0.0061 - accuracy: 0.9969 - val_loss: 0.3524 - val_accuracy: 0.9125\n"
          ]
        }
      ]
    },
    {
      "cell_type": "code",
      "source": [],
      "metadata": {
        "id": "or_DuabTxjF7"
      },
      "execution_count": null,
      "outputs": []
    },
    {
      "cell_type": "code",
      "source": [
        "model.evaluate(val_ds)"
      ],
      "metadata": {
        "colab": {
          "base_uri": "https://localhost:8080/"
        },
        "id": "JY3o14rYfvWQ",
        "outputId": "af386f9f-810a-464c-ff4c-16298e699687"
      },
      "execution_count": 24,
      "outputs": [
        {
          "output_type": "stream",
          "name": "stdout",
          "text": [
            "5/5 [==============================] - 1s 103ms/step - loss: 0.3524 - accuracy: 0.9125\n"
          ]
        },
        {
          "output_type": "execute_result",
          "data": {
            "text/plain": [
              "[0.35242393612861633, 0.9125000238418579]"
            ]
          },
          "metadata": {},
          "execution_count": 24
        }
      ]
    },
    {
      "cell_type": "code",
      "source": [
        "save_directory='/content/drive/My Drive/IndoorOutdoorClassification/restnet50_264d_128_d.h5'\n",
        "model.save(save_directory)"
      ],
      "metadata": {
        "id": "O1ppE1qGttGU"
      },
      "execution_count": 23,
      "outputs": []
    },
    {
      "cell_type": "markdown",
      "source": [
        "## Multiple layers"
      ],
      "metadata": {
        "id": "K0xtFBAubH2j"
      }
    },
    {
      "cell_type": "code",
      "execution_count": null,
      "outputs": [],
      "source": [
        "model = Sequential()\n",
        "model.add(ResNet50V2(weights='imagenet', include_top=False, input_shape=(224, 224, 3), classes=2))\n",
        "model.add(Flatten())\n",
        "model.add(Dense(264, activation='relu'))\n",
        "model.add(Dense(128, activation='relu'))\n",
        "model.add(Dense(1, activation='sigmoid'))"
      ],
      "metadata": {
        "ExecuteTime": {
          "end_time": "2023-06-17T21:34:49.736174300Z",
          "start_time": "2023-06-17T21:34:47.455963300Z"
        },
        "id": "GEVcD0KcWAAj"
      }
    },
    {
      "cell_type": "code",
      "execution_count": null,
      "outputs": [
        {
          "name": "stdout",
          "output_type": "stream",
          "text": [
            "Model: \"sequential_4\"\n",
            "_________________________________________________________________\n",
            " Layer (type)                Output Shape              Param #   \n",
            "=================================================================\n",
            " resnet50v2 (Functional)     (None, 7, 7, 2048)        23564800  \n",
            "                                                                 \n",
            " flatten_4 (Flatten)         (None, 100352)            0         \n",
            "                                                                 \n",
            " dense_12 (Dense)            (None, 264)               26493192  \n",
            "                                                                 \n",
            " dense_13 (Dense)            (None, 128)               33920     \n",
            "                                                                 \n",
            " dense_14 (Dense)            (None, 1)                 129       \n",
            "                                                                 \n",
            "=================================================================\n",
            "Total params: 50,092,041\n",
            "Trainable params: 50,046,601\n",
            "Non-trainable params: 45,440\n",
            "_________________________________________________________________\n"
          ]
        }
      ],
      "source": [
        "model.summary()"
      ],
      "metadata": {
        "ExecuteTime": {
          "end_time": "2023-06-17T21:34:49.805174Z",
          "start_time": "2023-06-17T21:34:49.732174Z"
        },
        "id": "rJxcaFn1WAAk",
        "outputId": "82a521b8-0405-47ee-ae82-9219a9a4f248"
      }
    },
    {
      "cell_type": "code",
      "execution_count": null,
      "outputs": [],
      "source": [
        "model.compile(loss='binary_crossentropy', optimizer='adam', metrics=['accuracy'])"
      ],
      "metadata": {
        "ExecuteTime": {
          "end_time": "2023-06-17T21:34:49.806175400Z",
          "start_time": "2023-06-17T21:34:49.763175700Z"
        },
        "id": "BY-3A7WTWAAk"
      }
    },
    {
      "cell_type": "code",
      "execution_count": null,
      "outputs": [
        {
          "name": "stdout",
          "output_type": "stream",
          "text": [
            "Found 800 files belonging to 2 classes.\n",
            "Using 640 files for training.\n"
          ]
        }
      ],
      "source": [
        "train_ds = image_dataset_from_directory(\n",
        "    directory='images',\n",
        "    labels='inferred',\n",
        "    label_mode='binary',\n",
        "    batch_size=32,\n",
        "    image_size=(224, 224),\n",
        "    shuffle=True,\n",
        "    seed=42,\n",
        "    validation_split=0.2,\n",
        "    subset='training'\n",
        ")\n"
      ],
      "metadata": {
        "ExecuteTime": {
          "end_time": "2023-06-17T21:43:43.605107Z",
          "start_time": "2023-06-17T21:43:43.482159600Z"
        },
        "id": "ca7azfQAWAAk",
        "outputId": "2a88ddf6-c048-49ed-b4a1-4d76bf98a0ff"
      }
    },
    {
      "cell_type": "code",
      "execution_count": null,
      "outputs": [
        {
          "name": "stdout",
          "output_type": "stream",
          "text": [
            "Found 800 files belonging to 2 classes.\n",
            "Using 160 files for validation.\n"
          ]
        }
      ],
      "source": [
        "val_ds = image_dataset_from_directory(\n",
        "    directory='images',\n",
        "    labels='inferred',\n",
        "    label_mode='binary',\n",
        "    batch_size=32,\n",
        "    image_size=(224, 224),\n",
        "    shuffle=True,\n",
        "    seed=42,\n",
        "    validation_split=0.2,\n",
        "    subset='validation'\n",
        ")"
      ],
      "metadata": {
        "ExecuteTime": {
          "end_time": "2023-06-17T21:43:45.798194300Z",
          "start_time": "2023-06-17T21:43:45.683470700Z"
        },
        "id": "Iom5r4p_WAAl",
        "outputId": "2b8421f2-c9ff-4553-f92c-5153aeee68b5"
      }
    },
    {
      "cell_type": "code",
      "execution_count": null,
      "outputs": [
        {
          "name": "stdout",
          "output_type": "stream",
          "text": [
            "Epoch 1/10\n"
          ]
        },
        {
          "ename": "TypeError",
          "evalue": "'NoneType' object is not callable",
          "output_type": "error",
          "traceback": [
            "\u001b[1;31m---------------------------------------------------------------------------\u001b[0m",
            "\u001b[1;31mTypeError\u001b[0m                                 Traceback (most recent call last)",
            "Cell \u001b[1;32mIn[57], line 2\u001b[0m\n\u001b[0;32m      1\u001b[0m epochs\u001b[38;5;241m=\u001b[39m\u001b[38;5;241m10\u001b[39m\n\u001b[1;32m----> 2\u001b[0m history \u001b[38;5;241m=\u001b[39m \u001b[43mmodel\u001b[49m\u001b[38;5;241;43m.\u001b[39;49m\u001b[43mfit\u001b[49m\u001b[43m(\u001b[49m\n\u001b[0;32m      3\u001b[0m \u001b[43m  \u001b[49m\u001b[43mtrain_ds\u001b[49m\u001b[43m,\u001b[49m\n\u001b[0;32m      4\u001b[0m \u001b[43m  \u001b[49m\u001b[43mvalidation_data\u001b[49m\u001b[38;5;241;43m=\u001b[39;49m\u001b[43mval_ds\u001b[49m\u001b[43m,\u001b[49m\n\u001b[0;32m      5\u001b[0m \u001b[43m  \u001b[49m\u001b[43mepochs\u001b[49m\u001b[38;5;241;43m=\u001b[39;49m\u001b[43mepochs\u001b[49m\n\u001b[0;32m      6\u001b[0m \u001b[43m)\u001b[49m\n",
            "File \u001b[1;32m~\\anaconda3\\envs\\dpns\\lib\\site-packages\\keras\\utils\\traceback_utils.py:70\u001b[0m, in \u001b[0;36mfilter_traceback.<locals>.error_handler\u001b[1;34m(*args, **kwargs)\u001b[0m\n\u001b[0;32m     67\u001b[0m     filtered_tb \u001b[38;5;241m=\u001b[39m _process_traceback_frames(e\u001b[38;5;241m.\u001b[39m__traceback__)\n\u001b[0;32m     68\u001b[0m     \u001b[38;5;66;03m# To get the full stack trace, call:\u001b[39;00m\n\u001b[0;32m     69\u001b[0m     \u001b[38;5;66;03m# `tf.debugging.disable_traceback_filtering()`\u001b[39;00m\n\u001b[1;32m---> 70\u001b[0m     \u001b[38;5;28;01mraise\u001b[39;00m e\u001b[38;5;241m.\u001b[39mwith_traceback(filtered_tb) \u001b[38;5;28;01mfrom\u001b[39;00m \u001b[38;5;28;01mNone\u001b[39;00m\n\u001b[0;32m     71\u001b[0m \u001b[38;5;28;01mfinally\u001b[39;00m:\n\u001b[0;32m     72\u001b[0m     \u001b[38;5;28;01mdel\u001b[39;00m filtered_tb\n",
            "File \u001b[1;32m~\\anaconda3\\envs\\dpns\\lib\\site-packages\\tensorflow\\python\\eager\\polymorphic_function\\polymorphic_function.py:926\u001b[0m, in \u001b[0;36mFunction._call\u001b[1;34m(self, *args, **kwds)\u001b[0m\n\u001b[0;32m    923\u001b[0m   \u001b[38;5;28mself\u001b[39m\u001b[38;5;241m.\u001b[39m_lock\u001b[38;5;241m.\u001b[39mrelease()\n\u001b[0;32m    924\u001b[0m   \u001b[38;5;66;03m# In this case we have created variables on the first call, so we run the\u001b[39;00m\n\u001b[0;32m    925\u001b[0m   \u001b[38;5;66;03m# defunned version which is guaranteed to never create variables.\u001b[39;00m\n\u001b[1;32m--> 926\u001b[0m   \u001b[38;5;28;01mreturn\u001b[39;00m \u001b[38;5;28mself\u001b[39m\u001b[38;5;241m.\u001b[39m_no_variable_creation_fn(\u001b[38;5;241m*\u001b[39margs, \u001b[38;5;241m*\u001b[39m\u001b[38;5;241m*\u001b[39mkwds)  \u001b[38;5;66;03m# pylint: disable=not-callable\u001b[39;00m\n\u001b[0;32m    927\u001b[0m \u001b[38;5;28;01melif\u001b[39;00m \u001b[38;5;28mself\u001b[39m\u001b[38;5;241m.\u001b[39m_variable_creation_fn \u001b[38;5;129;01mis\u001b[39;00m \u001b[38;5;129;01mnot\u001b[39;00m \u001b[38;5;28;01mNone\u001b[39;00m:\n\u001b[0;32m    928\u001b[0m   \u001b[38;5;66;03m# Release the lock early so that multiple threads can perform the call\u001b[39;00m\n\u001b[0;32m    929\u001b[0m   \u001b[38;5;66;03m# in parallel.\u001b[39;00m\n\u001b[0;32m    930\u001b[0m   \u001b[38;5;28mself\u001b[39m\u001b[38;5;241m.\u001b[39m_lock\u001b[38;5;241m.\u001b[39mrelease()\n",
            "\u001b[1;31mTypeError\u001b[0m: 'NoneType' object is not callable"
          ]
        }
      ],
      "source": [
        "epochs=10\n",
        "history = model.fit(\n",
        "  train_ds,\n",
        "  validation_data=val_ds,\n",
        "  epochs=epochs\n",
        ")"
      ],
      "metadata": {
        "ExecuteTime": {
          "end_time": "2023-06-17T21:44:52.937522100Z",
          "start_time": "2023-06-17T21:44:52.888522800Z"
        },
        "id": "eK3eXAv2WAAm",
        "outputId": "dbcfd20f-4e9e-41dc-c084-499090db7a2a"
      }
    }
  ],
  "metadata": {
    "kernelspec": {
      "display_name": "Python 3",
      "name": "python3"
    },
    "language_info": {
      "codemirror_mode": {
        "name": "ipython",
        "version": 2
      },
      "file_extension": ".py",
      "mimetype": "text/x-python",
      "name": "python",
      "nbconvert_exporter": "python",
      "pygments_lexer": "ipython2",
      "version": "2.7.6"
    },
    "colab": {
      "provenance": [],
      "gpuType": "T4"
    },
    "accelerator": "GPU"
  },
  "nbformat": 4,
  "nbformat_minor": 0
}