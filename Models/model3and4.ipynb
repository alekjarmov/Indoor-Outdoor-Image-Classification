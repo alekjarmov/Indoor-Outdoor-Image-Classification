{
  "nbformat": 4,
  "nbformat_minor": 0,
  "metadata": {
    "colab": {
      "provenance": [],
      "gpuType": "T4"
    },
    "kernelspec": {
      "name": "python3",
      "display_name": "Python 3"
    },
    "language_info": {
      "name": "python"
    },
    "accelerator": "GPU"
  },
  "cells": [
    {
      "cell_type": "code",
      "execution_count": null,
      "metadata": {
        "id": "GwZbRk7tQ6L7"
      },
      "outputs": [],
      "source": [
        "import os\n",
        "import cv2\n",
        "from keras.applications import Xception\n",
        "from keras.layers import Dense, Flatten\n",
        "from keras.models import Sequential\n",
        "import pandas as pd\n",
        "from keras.utils import image_dataset_from_directory"
      ]
    },
    {
      "cell_type": "code",
      "source": [
        "from google.colab import drive\n",
        "drive.mount('/content/drive')"
      ],
      "metadata": {
        "colab": {
          "base_uri": "https://localhost:8080/"
        },
        "id": "jh58whakRTLa",
        "outputId": "e60ee06a-f73e-4b9c-e565-6031cfb63a31"
      },
      "execution_count": null,
      "outputs": [
        {
          "output_type": "stream",
          "name": "stdout",
          "text": [
            "Mounted at /content/drive\n"
          ]
        }
      ]
    },
    {
      "cell_type": "code",
      "source": [
        "import tensorflow as tf"
      ],
      "metadata": {
        "id": "eYwmb1O-R_a9"
      },
      "execution_count": null,
      "outputs": []
    },
    {
      "cell_type": "code",
      "source": [
        "sess = tf.compat.v1.Session(config=tf.compat.v1.ConfigProto(log_device_placement=True))"
      ],
      "metadata": {
        "colab": {
          "base_uri": "https://localhost:8080/"
        },
        "id": "lSbooT8aSCap",
        "outputId": "ecc53b95-839a-49ad-9bba-ffeac3bdc282"
      },
      "execution_count": null,
      "outputs": [
        {
          "output_type": "stream",
          "name": "stdout",
          "text": [
            "Device mapping:\n",
            "/job:localhost/replica:0/task:0/device:GPU:0 -> device: 0, name: Tesla T4, pci bus id: 0000:00:04.0, compute capability: 7.5\n",
            "\n"
          ]
        }
      ]
    },
    {
      "cell_type": "code",
      "source": [
        "model = Sequential()\n",
        "model.add(Xception(weights='imagenet', include_top=False, input_shape=(224, 224, 3), classes=2))\n",
        "model.add(Flatten())\n",
        "model.add(Dense(256, activation='sigmoid'))\n",
        "model.add(Dense(128, activation='sigmoid'))\n",
        "model.add(Dense(64, activation='sigmoid'))\n",
        "model.add(Dense(2, activation='softmax'))"
      ],
      "metadata": {
        "colab": {
          "base_uri": "https://localhost:8080/"
        },
        "id": "5_fFUcYtSUq9",
        "outputId": "6b6a859c-d656-429a-b3b9-c33fc5111ff7"
      },
      "execution_count": null,
      "outputs": [
        {
          "output_type": "stream",
          "name": "stdout",
          "text": [
            "Downloading data from https://storage.googleapis.com/tensorflow/keras-applications/xception/xception_weights_tf_dim_ordering_tf_kernels_notop.h5\n",
            "83683744/83683744 [==============================] - 5s 0us/step\n"
          ]
        }
      ]
    },
    {
      "cell_type": "code",
      "source": [
        "model.summary()"
      ],
      "metadata": {
        "colab": {
          "base_uri": "https://localhost:8080/"
        },
        "id": "1wbVCwUnTerc",
        "outputId": "559b6852-5a09-48da-dfae-99c63221987e"
      },
      "execution_count": null,
      "outputs": [
        {
          "output_type": "stream",
          "name": "stdout",
          "text": [
            "Model: \"sequential\"\n",
            "_________________________________________________________________\n",
            " Layer (type)                Output Shape              Param #   \n",
            "=================================================================\n",
            " xception (Functional)       (None, 7, 7, 2048)        20861480  \n",
            "                                                                 \n",
            " flatten (Flatten)           (None, 100352)            0         \n",
            "                                                                 \n",
            " dense (Dense)               (None, 256)               25690368  \n",
            "                                                                 \n",
            " dense_1 (Dense)             (None, 128)               32896     \n",
            "                                                                 \n",
            " dense_2 (Dense)             (None, 64)                8256      \n",
            "                                                                 \n",
            " dense_3 (Dense)             (None, 2)                 130       \n",
            "                                                                 \n",
            "=================================================================\n",
            "Total params: 46,593,130\n",
            "Trainable params: 46,538,602\n",
            "Non-trainable params: 54,528\n",
            "_________________________________________________________________\n"
          ]
        }
      ]
    },
    {
      "cell_type": "code",
      "source": [
        "model.compile(loss='categorical_crossentropy', optimizer='adam', metrics=['accuracy', tf.keras.metrics.CategoricalAccuracy(), tf.keras.metrics.Recall(), tf.keras.metrics.Precision()])"
      ],
      "metadata": {
        "id": "WqHKp295Te3a"
      },
      "execution_count": null,
      "outputs": []
    },
    {
      "cell_type": "code",
      "source": [
        "train_ds = image_dataset_from_directory(\n",
        "    directory='/content/drive/My Drive/IndoorOutdoorClassification/images',\n",
        "    labels='inferred',\n",
        "    label_mode='categorical',\n",
        "    image_size=(224, 224),\n",
        "    shuffle=True,\n",
        "    seed=42,\n",
        "    validation_split=0.2,\n",
        "    subset='training'\n",
        ")"
      ],
      "metadata": {
        "colab": {
          "base_uri": "https://localhost:8080/"
        },
        "id": "dwTCs0LwTgpX",
        "outputId": "20ec50b8-078c-4d27-9432-58fc7ac0bd7f"
      },
      "execution_count": null,
      "outputs": [
        {
          "output_type": "stream",
          "name": "stdout",
          "text": [
            "Found 800 files belonging to 2 classes.\n",
            "Using 640 files for training.\n"
          ]
        }
      ]
    },
    {
      "cell_type": "code",
      "source": [
        "val_ds = image_dataset_from_directory(\n",
        "    directory='/content/drive/My Drive/IndoorOutdoorClassification/images',\n",
        "    labels='inferred',\n",
        "    label_mode='categorical',\n",
        "    image_size=(224, 224),\n",
        "    shuffle=True,\n",
        "    seed=42,\n",
        "    validation_split=0.2,\n",
        "    subset='validation'\n",
        ")"
      ],
      "metadata": {
        "colab": {
          "base_uri": "https://localhost:8080/"
        },
        "id": "Edb4kQ0WTh4Y",
        "outputId": "cc9bdd52-3df1-4997-ca15-7adee6512029"
      },
      "execution_count": null,
      "outputs": [
        {
          "output_type": "stream",
          "name": "stdout",
          "text": [
            "Found 800 files belonging to 2 classes.\n",
            "Using 160 files for validation.\n"
          ]
        }
      ]
    },
    {
      "cell_type": "code",
      "source": [
        "epochs=100\n",
        "history = model.fit(\n",
        "  train_ds,\n",
        "  validation_data=val_ds,\n",
        "  epochs=epochs\n",
        ")"
      ],
      "metadata": {
        "id": "Xy2XtycRTklt"
      },
      "execution_count": null,
      "outputs": []
    },
    {
      "cell_type": "code",
      "source": [
        "save_directory='/content/drive/My Drive/IndoorOutdoorClassification/xception_nodropout.h5'\n",
        "model.save(save_directory)"
      ],
      "metadata": {
        "id": "t5SY3a4cYy_Z"
      },
      "execution_count": null,
      "outputs": []
    },
    {
      "cell_type": "markdown",
      "source": [
        "## Evaluation"
      ],
      "metadata": {
        "id": "qXpxKnMuZKNq"
      }
    },
    {
      "cell_type": "code",
      "source": [
        "import numpy as np"
      ],
      "metadata": {
        "id": "k0NTLdykZS0v"
      },
      "execution_count": null,
      "outputs": []
    },
    {
      "cell_type": "code",
      "source": [
        "def predict_image_softmax(model, path: str,  size_x: int = 224, size_y: int = 224):\n",
        "  img = cv2.imread(path)\n",
        "  img = cv2.resize(img, (size_x, size_y))\n",
        "  img = np.expand_dims(img, axis=0)\n",
        "  return model.predict(img, verbose=False)[0]"
      ],
      "metadata": {
        "id": "1nVCsWXfZKAo"
      },
      "execution_count": null,
      "outputs": []
    },
    {
      "cell_type": "code",
      "source": [
        "prediction_dir = '/content/drive/My Drive/IndoorOutdoorClassification/images/indoor'\n",
        "cnt_zero = 0\n",
        "cnt_one = 0\n",
        "imgs = os.listdir(prediction_dir)\n",
        "\n",
        "for img in imgs:\n",
        "  try:\n",
        "    prediction = predict_image_softmax(model,f'{prediction_dir}/{img}')\n",
        "    print(f'{img} - {prediction}')\n",
        "    if(prediction[0]>=prediction[1]):\n",
        "      cnt_zero += 1\n",
        "    else:\n",
        "      cnt_one += 1\n",
        "  except Exception:\n",
        "    print('except')\n",
        "print(f\"Class zero: {cnt_zero} \\n Class one: {cnt_one}\")"
      ],
      "metadata": {
        "id": "LRVA5wKHY5Tg"
      },
      "execution_count": null,
      "outputs": []
    },
    {
      "cell_type": "code",
      "source": [
        "prediction_dir = '/content/drive/My Drive/IndoorOutdoorClassification/images/outdoor'\n",
        "cnt_zero = 0\n",
        "cnt_one = 0\n",
        "imgs = os.listdir(prediction_dir)\n",
        "\n",
        "for img in imgs:\n",
        "  try:\n",
        "    prediction = predict_image_softmax(model,f'{prediction_dir}/{img}')\n",
        "    print(f'{img} - {prediction}')\n",
        "    if(prediction[0]>=prediction[1]):\n",
        "      cnt_zero += 1\n",
        "    else:\n",
        "      cnt_one += 1\n",
        "  except Exception:\n",
        "    print('except')\n",
        "print(f\"Class zero: {cnt_zero} \\n Class one: {cnt_one}\")"
      ],
      "metadata": {
        "id": "GCJ4zcCjZDww"
      },
      "execution_count": null,
      "outputs": []
    },
    {
      "cell_type": "code",
      "source": [
        "prediction_dir = '/content/drive/My Drive/IndoorOutdoorClassification/prediction_images/'\n",
        "cnt_zero = 0\n",
        "cnt_one = 0\n",
        "imgs = os.listdir(prediction_dir)\n",
        "\n",
        "for img in imgs:\n",
        "  try:\n",
        "    prediction = predict_image_softmax(model,f'{prediction_dir}/{img}')\n",
        "    print(f'{img} - {prediction} - {\"indoor\" if prediction[0]>=prediction[1] else \"outdoor\"}')\n",
        "    if(prediction[0]>=prediction[1]):\n",
        "      cnt_zero += 1\n",
        "    else:\n",
        "      cnt_one += 1\n",
        "  except Exception:\n",
        "    print('except')\n",
        "print(f\"Class zero: {cnt_zero} \\n Class one: {cnt_one}\")"
      ],
      "metadata": {
        "colab": {
          "base_uri": "https://localhost:8080/"
        },
        "id": "wIyg12FrZIQb",
        "outputId": "ec197fd4-37f4-4651-8a1d-8a7a14cad449"
      },
      "execution_count": null,
      "outputs": [
        {
          "output_type": "stream",
          "name": "stdout",
          "text": [
            "indoor1.jpg - [9.9964786e-01 3.5211822e-04] - indoor\n",
            "indoor2.jpg - [9.9961555e-01 3.8438314e-04] - indoor\n",
            "outdoor1.jpg - [2.7296698e-04 9.9972707e-01] - outdoor\n",
            "outdoor2.jpg - [0.96582985 0.03417015] - indoor\n",
            "outdoor3.jpg - [0.00307955 0.99692047] - outdoor\n",
            "outdoor4.jpg - [0.36660567 0.6333943 ] - outdoor\n",
            "indoor3.jpg - [9.9964106e-01 3.5894307e-04] - indoor\n",
            "indoor4.jpg - [9.9962056e-01 3.7936808e-04] - indoor\n",
            "Class zero: 5 \n",
            " Class one: 3\n"
          ]
        }
      ]
    },
    {
      "cell_type": "markdown",
      "source": [
        "## With dropout"
      ],
      "metadata": {
        "id": "B-kBzp67X0Yh"
      }
    },
    {
      "cell_type": "code",
      "source": [
        "from keras.layers import Dropout\n"
      ],
      "metadata": {
        "id": "oQLRW_I0YGTg"
      },
      "execution_count": null,
      "outputs": []
    },
    {
      "cell_type": "code",
      "source": [
        "model1 = Sequential()\n",
        "model1.add(Xception(weights='imagenet', include_top=False, input_shape=(224, 224, 3), classes=2))\n",
        "model1.add(Flatten())\n",
        "model1.add(Dense(128, activation='sigmoid'))\n",
        "model1.add(Dropout(0.3))\n",
        "model1.add(Dense(64, activation='sigmoid'))\n",
        "model1.add(Dropout(0.1))\n",
        "model1.add(Dense(2, activation='softmax'))"
      ],
      "metadata": {
        "id": "JS7nlOK8Tmp7"
      },
      "execution_count": null,
      "outputs": []
    },
    {
      "cell_type": "code",
      "source": [
        "model1.summary()"
      ],
      "metadata": {
        "id": "hhBfNDCiFf3V",
        "outputId": "9abee8f8-099e-498b-8ee6-ec91f8878190",
        "colab": {
          "base_uri": "https://localhost:8080/"
        }
      },
      "execution_count": null,
      "outputs": [
        {
          "output_type": "stream",
          "name": "stdout",
          "text": [
            "Model: \"sequential_1\"\n",
            "_________________________________________________________________\n",
            " Layer (type)                Output Shape              Param #   \n",
            "=================================================================\n",
            " xception (Functional)       (None, 7, 7, 2048)        20861480  \n",
            "                                                                 \n",
            " flatten_1 (Flatten)         (None, 100352)            0         \n",
            "                                                                 \n",
            " dense_3 (Dense)             (None, 128)               12845184  \n",
            "                                                                 \n",
            " dropout_2 (Dropout)         (None, 128)               0         \n",
            "                                                                 \n",
            " dense_4 (Dense)             (None, 64)                8256      \n",
            "                                                                 \n",
            " dropout_3 (Dropout)         (None, 64)                0         \n",
            "                                                                 \n",
            " dense_5 (Dense)             (None, 2)                 130       \n",
            "                                                                 \n",
            "=================================================================\n",
            "Total params: 33,715,050\n",
            "Trainable params: 33,660,522\n",
            "Non-trainable params: 54,528\n",
            "_________________________________________________________________\n"
          ]
        }
      ]
    },
    {
      "cell_type": "code",
      "source": [
        "model1.compile(loss='categorical_crossentropy', optimizer='adam', metrics=['accuracy', tf.keras.metrics.CategoricalAccuracy(), tf.keras.metrics.Recall(), tf.keras.metrics.Precision()])"
      ],
      "metadata": {
        "id": "nGEJ94Js0PMS"
      },
      "execution_count": null,
      "outputs": []
    },
    {
      "cell_type": "code",
      "source": [
        "train_ds = image_dataset_from_directory(\n",
        "    directory='/content/drive/My Drive/IndoorOutdoorClassification/images',\n",
        "    labels='inferred',\n",
        "    label_mode='categorical',\n",
        "    image_size=(224, 224),\n",
        "    shuffle=True,\n",
        "    seed=42,\n",
        "    validation_split=0.2,\n",
        "    subset='training'\n",
        ")"
      ],
      "metadata": {
        "colab": {
          "base_uri": "https://localhost:8080/"
        },
        "id": "_b9zBsgz0WYa",
        "outputId": "26fe1d15-03d5-42ba-b6b9-bd4e022679a6"
      },
      "execution_count": null,
      "outputs": [
        {
          "output_type": "stream",
          "name": "stdout",
          "text": [
            "Found 800 files belonging to 2 classes.\n",
            "Using 640 files for training.\n"
          ]
        }
      ]
    },
    {
      "cell_type": "code",
      "source": [
        "val_ds = image_dataset_from_directory(\n",
        "    directory='/content/drive/My Drive/IndoorOutdoorClassification/images',\n",
        "    labels='inferred',\n",
        "    label_mode='categorical',\n",
        "    image_size=(224, 224),\n",
        "    shuffle=True,\n",
        "    seed=42,\n",
        "    validation_split=0.2,\n",
        "    subset='validation'\n",
        ")"
      ],
      "metadata": {
        "colab": {
          "base_uri": "https://localhost:8080/"
        },
        "id": "WTfxJjyj0X8C",
        "outputId": "444fae38-a2f8-4275-b2f9-018afdc322d3"
      },
      "execution_count": null,
      "outputs": [
        {
          "output_type": "stream",
          "name": "stdout",
          "text": [
            "Found 800 files belonging to 2 classes.\n",
            "Using 160 files for validation.\n"
          ]
        }
      ]
    },
    {
      "cell_type": "code",
      "source": [
        "epochs=100\n",
        "history = model1.fit(\n",
        "  train_ds,\n",
        "  validation_data=val_ds,\n",
        "  epochs=epochs\n",
        ")"
      ],
      "metadata": {
        "colab": {
          "base_uri": "https://localhost:8080/"
        },
        "id": "W2FtZGf10Pcr",
        "outputId": "81c1ff59-5b84-4d4c-bc21-4ab4dffe8d8f"
      },
      "execution_count": null,
      "outputs": [
        {
          "output_type": "stream",
          "name": "stdout",
          "text": [
            "Epoch 1/100\n",
            "20/20 [==============================] - 206s 4s/step - loss: 0.3475 - accuracy: 0.8703 - categorical_accuracy: 0.8703 - recall: 0.8703 - precision: 0.8703 - val_loss: 0.4157 - val_accuracy: 0.8438 - val_categorical_accuracy: 0.8438 - val_recall: 0.8438 - val_precision: 0.8438\n",
            "Epoch 2/100\n",
            "20/20 [==============================] - 12s 582ms/step - loss: 0.1340 - accuracy: 0.9625 - categorical_accuracy: 0.9625 - recall: 0.9625 - precision: 0.9625 - val_loss: 0.6470 - val_accuracy: 0.8062 - val_categorical_accuracy: 0.8062 - val_recall: 0.8062 - val_precision: 0.8062\n",
            "Epoch 3/100\n",
            "20/20 [==============================] - 13s 601ms/step - loss: 0.1944 - accuracy: 0.9484 - categorical_accuracy: 0.9484 - recall: 0.9484 - precision: 0.9484 - val_loss: 1.0876 - val_accuracy: 0.6938 - val_categorical_accuracy: 0.6938 - val_recall: 0.6938 - val_precision: 0.6938\n",
            "Epoch 4/100\n",
            "20/20 [==============================] - 13s 613ms/step - loss: 0.1321 - accuracy: 0.9563 - categorical_accuracy: 0.9563 - recall: 0.9563 - precision: 0.9563 - val_loss: 0.7419 - val_accuracy: 0.7750 - val_categorical_accuracy: 0.7750 - val_recall: 0.7750 - val_precision: 0.7750\n",
            "Epoch 5/100\n",
            "20/20 [==============================] - 13s 603ms/step - loss: 0.1299 - accuracy: 0.9578 - categorical_accuracy: 0.9578 - recall: 0.9578 - precision: 0.9578 - val_loss: 1.7515 - val_accuracy: 0.5312 - val_categorical_accuracy: 0.5312 - val_recall: 0.5312 - val_precision: 0.5312\n",
            "Epoch 6/100\n",
            "20/20 [==============================] - 14s 645ms/step - loss: 0.0964 - accuracy: 0.9734 - categorical_accuracy: 0.9734 - recall: 0.9734 - precision: 0.9734 - val_loss: 0.8497 - val_accuracy: 0.7500 - val_categorical_accuracy: 0.7500 - val_recall: 0.7500 - val_precision: 0.7500\n",
            "Epoch 7/100\n",
            "20/20 [==============================] - 14s 655ms/step - loss: 0.1091 - accuracy: 0.9688 - categorical_accuracy: 0.9688 - recall: 0.9688 - precision: 0.9688 - val_loss: 0.8156 - val_accuracy: 0.7875 - val_categorical_accuracy: 0.7875 - val_recall: 0.7875 - val_precision: 0.7875\n",
            "Epoch 8/100\n",
            "20/20 [==============================] - 12s 589ms/step - loss: 0.1373 - accuracy: 0.9578 - categorical_accuracy: 0.9578 - recall: 0.9578 - precision: 0.9578 - val_loss: 0.8192 - val_accuracy: 0.7688 - val_categorical_accuracy: 0.7688 - val_recall: 0.7688 - val_precision: 0.7688\n",
            "Epoch 9/100\n",
            "20/20 [==============================] - 13s 605ms/step - loss: 0.0962 - accuracy: 0.9719 - categorical_accuracy: 0.9719 - recall: 0.9719 - precision: 0.9719 - val_loss: 0.5976 - val_accuracy: 0.8500 - val_categorical_accuracy: 0.8500 - val_recall: 0.8500 - val_precision: 0.8500\n",
            "Epoch 10/100\n",
            "20/20 [==============================] - 13s 601ms/step - loss: 0.1392 - accuracy: 0.9547 - categorical_accuracy: 0.9547 - recall: 0.9547 - precision: 0.9547 - val_loss: 2.2644 - val_accuracy: 0.5250 - val_categorical_accuracy: 0.5250 - val_recall: 0.5250 - val_precision: 0.5250\n",
            "Epoch 11/100\n",
            "20/20 [==============================] - 12s 589ms/step - loss: 0.0639 - accuracy: 0.9797 - categorical_accuracy: 0.9797 - recall: 0.9797 - precision: 0.9797 - val_loss: 0.9143 - val_accuracy: 0.7625 - val_categorical_accuracy: 0.7625 - val_recall: 0.7625 - val_precision: 0.7625\n",
            "Epoch 12/100\n",
            "20/20 [==============================] - 12s 580ms/step - loss: 0.0418 - accuracy: 0.9859 - categorical_accuracy: 0.9859 - recall: 0.9859 - precision: 0.9859 - val_loss: 0.7617 - val_accuracy: 0.8188 - val_categorical_accuracy: 0.8188 - val_recall: 0.8188 - val_precision: 0.8188\n",
            "Epoch 13/100\n",
            "20/20 [==============================] - 12s 581ms/step - loss: 0.0256 - accuracy: 0.9969 - categorical_accuracy: 0.9969 - recall: 0.9969 - precision: 0.9969 - val_loss: 0.3435 - val_accuracy: 0.9250 - val_categorical_accuracy: 0.9250 - val_recall: 0.9250 - val_precision: 0.9250\n",
            "Epoch 14/100\n",
            "20/20 [==============================] - 13s 599ms/step - loss: 0.0207 - accuracy: 0.9969 - categorical_accuracy: 0.9969 - recall: 0.9969 - precision: 0.9969 - val_loss: 0.1061 - val_accuracy: 0.9812 - val_categorical_accuracy: 0.9812 - val_recall: 0.9812 - val_precision: 0.9812\n",
            "Epoch 15/100\n",
            "20/20 [==============================] - 14s 663ms/step - loss: 0.0641 - accuracy: 0.9875 - categorical_accuracy: 0.9875 - recall: 0.9875 - precision: 0.9875 - val_loss: 1.3715 - val_accuracy: 0.6812 - val_categorical_accuracy: 0.6812 - val_recall: 0.6812 - val_precision: 0.6812\n",
            "Epoch 16/100\n",
            "20/20 [==============================] - 12s 585ms/step - loss: 0.0619 - accuracy: 0.9875 - categorical_accuracy: 0.9875 - recall: 0.9875 - precision: 0.9875 - val_loss: 1.6202 - val_accuracy: 0.6938 - val_categorical_accuracy: 0.6938 - val_recall: 0.6938 - val_precision: 0.6938\n",
            "Epoch 17/100\n",
            "20/20 [==============================] - 13s 603ms/step - loss: 0.0242 - accuracy: 0.9953 - categorical_accuracy: 0.9953 - recall: 0.9953 - precision: 0.9953 - val_loss: 0.8824 - val_accuracy: 0.8000 - val_categorical_accuracy: 0.8000 - val_recall: 0.8000 - val_precision: 0.8000\n",
            "Epoch 18/100\n",
            "20/20 [==============================] - 13s 601ms/step - loss: 0.0349 - accuracy: 0.9922 - categorical_accuracy: 0.9922 - recall: 0.9922 - precision: 0.9922 - val_loss: 0.4049 - val_accuracy: 0.9062 - val_categorical_accuracy: 0.9062 - val_recall: 0.9062 - val_precision: 0.9062\n",
            "Epoch 19/100\n",
            "20/20 [==============================] - 12s 590ms/step - loss: 0.0343 - accuracy: 0.9937 - categorical_accuracy: 0.9937 - recall: 0.9937 - precision: 0.9937 - val_loss: 0.2486 - val_accuracy: 0.9312 - val_categorical_accuracy: 0.9312 - val_recall: 0.9312 - val_precision: 0.9312\n",
            "Epoch 20/100\n",
            "20/20 [==============================] - 14s 645ms/step - loss: 0.0109 - accuracy: 0.9984 - categorical_accuracy: 0.9984 - recall: 0.9984 - precision: 0.9984 - val_loss: 0.2909 - val_accuracy: 0.9312 - val_categorical_accuracy: 0.9312 - val_recall: 0.9312 - val_precision: 0.9312\n",
            "Epoch 21/100\n",
            "20/20 [==============================] - 14s 662ms/step - loss: 0.0306 - accuracy: 0.9906 - categorical_accuracy: 0.9906 - recall: 0.9906 - precision: 0.9906 - val_loss: 0.2917 - val_accuracy: 0.9250 - val_categorical_accuracy: 0.9250 - val_recall: 0.9250 - val_precision: 0.9250\n",
            "Epoch 22/100\n",
            "20/20 [==============================] - 13s 594ms/step - loss: 0.0255 - accuracy: 0.9922 - categorical_accuracy: 0.9922 - recall: 0.9922 - precision: 0.9922 - val_loss: 0.2172 - val_accuracy: 0.9438 - val_categorical_accuracy: 0.9438 - val_recall: 0.9438 - val_precision: 0.9438\n",
            "Epoch 23/100\n",
            "20/20 [==============================] - 13s 602ms/step - loss: 0.0383 - accuracy: 0.9828 - categorical_accuracy: 0.9828 - recall: 0.9828 - precision: 0.9828 - val_loss: 0.2183 - val_accuracy: 0.9563 - val_categorical_accuracy: 0.9563 - val_recall: 0.9563 - val_precision: 0.9563\n",
            "Epoch 24/100\n",
            "20/20 [==============================] - 13s 599ms/step - loss: 0.0757 - accuracy: 0.9750 - categorical_accuracy: 0.9750 - recall: 0.9750 - precision: 0.9750 - val_loss: 0.2602 - val_accuracy: 0.9062 - val_categorical_accuracy: 0.9062 - val_recall: 0.9062 - val_precision: 0.9062\n",
            "Epoch 25/100\n",
            "20/20 [==============================] - 12s 584ms/step - loss: 0.0491 - accuracy: 0.9844 - categorical_accuracy: 0.9844 - recall: 0.9844 - precision: 0.9844 - val_loss: 1.2614 - val_accuracy: 0.6000 - val_categorical_accuracy: 0.6000 - val_recall: 0.6000 - val_precision: 0.6000\n",
            "Epoch 26/100\n",
            "20/20 [==============================] - 12s 582ms/step - loss: 0.0430 - accuracy: 0.9844 - categorical_accuracy: 0.9844 - recall: 0.9844 - precision: 0.9844 - val_loss: 0.7712 - val_accuracy: 0.8313 - val_categorical_accuracy: 0.8313 - val_recall: 0.8313 - val_precision: 0.8313\n",
            "Epoch 27/100\n",
            "20/20 [==============================] - 13s 593ms/step - loss: 0.0349 - accuracy: 0.9906 - categorical_accuracy: 0.9906 - recall: 0.9906 - precision: 0.9906 - val_loss: 0.2670 - val_accuracy: 0.9375 - val_categorical_accuracy: 0.9375 - val_recall: 0.9375 - val_precision: 0.9375\n",
            "Epoch 28/100\n",
            "20/20 [==============================] - 14s 659ms/step - loss: 0.0335 - accuracy: 0.9891 - categorical_accuracy: 0.9891 - recall: 0.9891 - precision: 0.9891 - val_loss: 1.1862 - val_accuracy: 0.7437 - val_categorical_accuracy: 0.7437 - val_recall: 0.7437 - val_precision: 0.7437\n",
            "Epoch 29/100\n",
            "20/20 [==============================] - 13s 603ms/step - loss: 0.0140 - accuracy: 0.9953 - categorical_accuracy: 0.9953 - recall: 0.9953 - precision: 0.9953 - val_loss: 0.7816 - val_accuracy: 0.8562 - val_categorical_accuracy: 0.8562 - val_recall: 0.8562 - val_precision: 0.8562\n",
            "Epoch 30/100\n",
            "20/20 [==============================] - 14s 667ms/step - loss: 0.0159 - accuracy: 0.9953 - categorical_accuracy: 0.9953 - recall: 0.9953 - precision: 0.9953 - val_loss: 0.2078 - val_accuracy: 0.9625 - val_categorical_accuracy: 0.9625 - val_recall: 0.9625 - val_precision: 0.9625\n",
            "Epoch 31/100\n",
            "20/20 [==============================] - 12s 581ms/step - loss: 0.0160 - accuracy: 0.9969 - categorical_accuracy: 0.9969 - recall: 0.9969 - precision: 0.9969 - val_loss: 0.9029 - val_accuracy: 0.8313 - val_categorical_accuracy: 0.8313 - val_recall: 0.8313 - val_precision: 0.8313\n",
            "Epoch 32/100\n",
            "20/20 [==============================] - 13s 598ms/step - loss: 0.0253 - accuracy: 0.9937 - categorical_accuracy: 0.9937 - recall: 0.9937 - precision: 0.9937 - val_loss: 0.2077 - val_accuracy: 0.9312 - val_categorical_accuracy: 0.9312 - val_recall: 0.9312 - val_precision: 0.9312\n",
            "Epoch 33/100\n",
            "20/20 [==============================] - 13s 601ms/step - loss: 0.0084 - accuracy: 0.9969 - categorical_accuracy: 0.9969 - recall: 0.9969 - precision: 0.9969 - val_loss: 0.2492 - val_accuracy: 0.9250 - val_categorical_accuracy: 0.9250 - val_recall: 0.9250 - val_precision: 0.9250\n",
            "Epoch 34/100\n",
            "20/20 [==============================] - 12s 590ms/step - loss: 0.0031 - accuracy: 0.9984 - categorical_accuracy: 0.9984 - recall: 0.9984 - precision: 0.9984 - val_loss: 0.2474 - val_accuracy: 0.9312 - val_categorical_accuracy: 0.9312 - val_recall: 0.9312 - val_precision: 0.9312\n",
            "Epoch 35/100\n",
            "20/20 [==============================] - 13s 578ms/step - loss: 0.0075 - accuracy: 0.9984 - categorical_accuracy: 0.9984 - recall: 0.9984 - precision: 0.9984 - val_loss: 0.1741 - val_accuracy: 0.9563 - val_categorical_accuracy: 0.9563 - val_recall: 0.9563 - val_precision: 0.9563\n",
            "Epoch 36/100\n",
            "20/20 [==============================] - 13s 593ms/step - loss: 0.0084 - accuracy: 0.9969 - categorical_accuracy: 0.9969 - recall: 0.9969 - precision: 0.9969 - val_loss: 0.2124 - val_accuracy: 0.9500 - val_categorical_accuracy: 0.9500 - val_recall: 0.9500 - val_precision: 0.9500\n",
            "Epoch 37/100\n",
            "20/20 [==============================] - 13s 604ms/step - loss: 0.0088 - accuracy: 0.9969 - categorical_accuracy: 0.9969 - recall: 0.9969 - precision: 0.9969 - val_loss: 0.2667 - val_accuracy: 0.9438 - val_categorical_accuracy: 0.9438 - val_recall: 0.9438 - val_precision: 0.9438\n",
            "Epoch 38/100\n",
            "20/20 [==============================] - 13s 596ms/step - loss: 0.0542 - accuracy: 0.9859 - categorical_accuracy: 0.9859 - recall: 0.9859 - precision: 0.9859 - val_loss: 0.7614 - val_accuracy: 0.8438 - val_categorical_accuracy: 0.8438 - val_recall: 0.8438 - val_precision: 0.8438\n",
            "Epoch 39/100\n",
            "20/20 [==============================] - 13s 587ms/step - loss: 0.0258 - accuracy: 0.9922 - categorical_accuracy: 0.9922 - recall: 0.9922 - precision: 0.9922 - val_loss: 0.5353 - val_accuracy: 0.8813 - val_categorical_accuracy: 0.8813 - val_recall: 0.8813 - val_precision: 0.8813\n",
            "Epoch 40/100\n",
            "20/20 [==============================] - 12s 585ms/step - loss: 0.0224 - accuracy: 0.9953 - categorical_accuracy: 0.9953 - recall: 0.9953 - precision: 0.9953 - val_loss: 0.2476 - val_accuracy: 0.9375 - val_categorical_accuracy: 0.9375 - val_recall: 0.9375 - val_precision: 0.9375\n",
            "Epoch 41/100\n",
            "20/20 [==============================] - 12s 584ms/step - loss: 0.0029 - accuracy: 1.0000 - categorical_accuracy: 1.0000 - recall: 1.0000 - precision: 1.0000 - val_loss: 0.1876 - val_accuracy: 0.9500 - val_categorical_accuracy: 0.9500 - val_recall: 0.9500 - val_precision: 0.9500\n",
            "Epoch 42/100\n",
            "20/20 [==============================] - 12s 585ms/step - loss: 0.0057 - accuracy: 0.9984 - categorical_accuracy: 0.9984 - recall: 0.9984 - precision: 0.9984 - val_loss: 0.1471 - val_accuracy: 0.9625 - val_categorical_accuracy: 0.9625 - val_recall: 0.9625 - val_precision: 0.9625\n",
            "Epoch 43/100\n",
            "20/20 [==============================] - 12s 588ms/step - loss: 0.0085 - accuracy: 0.9984 - categorical_accuracy: 0.9984 - recall: 0.9984 - precision: 0.9984 - val_loss: 0.2744 - val_accuracy: 0.9375 - val_categorical_accuracy: 0.9375 - val_recall: 0.9375 - val_precision: 0.9375\n",
            "Epoch 44/100\n",
            "20/20 [==============================] - 12s 591ms/step - loss: 0.0053 - accuracy: 0.9984 - categorical_accuracy: 0.9984 - recall: 0.9984 - precision: 0.9984 - val_loss: 0.1853 - val_accuracy: 0.9625 - val_categorical_accuracy: 0.9625 - val_recall: 0.9625 - val_precision: 0.9625\n",
            "Epoch 45/100\n",
            "20/20 [==============================] - 12s 589ms/step - loss: 0.0151 - accuracy: 0.9969 - categorical_accuracy: 0.9969 - recall: 0.9969 - precision: 0.9969 - val_loss: 0.0594 - val_accuracy: 0.9750 - val_categorical_accuracy: 0.9750 - val_recall: 0.9750 - val_precision: 0.9750\n",
            "Epoch 46/100\n",
            "20/20 [==============================] - 13s 603ms/step - loss: 0.0198 - accuracy: 0.9906 - categorical_accuracy: 0.9906 - recall: 0.9906 - precision: 0.9906 - val_loss: 1.8113 - val_accuracy: 0.6812 - val_categorical_accuracy: 0.6812 - val_recall: 0.6812 - val_precision: 0.6812\n",
            "Epoch 47/100\n",
            "20/20 [==============================] - 14s 659ms/step - loss: 0.0171 - accuracy: 0.9969 - categorical_accuracy: 0.9969 - recall: 0.9969 - precision: 0.9969 - val_loss: 1.2783 - val_accuracy: 0.7875 - val_categorical_accuracy: 0.7875 - val_recall: 0.7875 - val_precision: 0.7875\n",
            "Epoch 48/100\n",
            "20/20 [==============================] - 13s 596ms/step - loss: 0.0152 - accuracy: 0.9922 - categorical_accuracy: 0.9922 - recall: 0.9922 - precision: 0.9922 - val_loss: 0.1315 - val_accuracy: 0.9688 - val_categorical_accuracy: 0.9688 - val_recall: 0.9688 - val_precision: 0.9688\n",
            "Epoch 49/100\n",
            "20/20 [==============================] - 13s 601ms/step - loss: 0.0209 - accuracy: 0.9922 - categorical_accuracy: 0.9922 - recall: 0.9922 - precision: 0.9922 - val_loss: 1.3482 - val_accuracy: 0.7688 - val_categorical_accuracy: 0.7688 - val_recall: 0.7688 - val_precision: 0.7688\n",
            "Epoch 50/100\n",
            "20/20 [==============================] - 14s 661ms/step - loss: 0.0169 - accuracy: 0.9969 - categorical_accuracy: 0.9969 - recall: 0.9969 - precision: 0.9969 - val_loss: 0.2903 - val_accuracy: 0.9438 - val_categorical_accuracy: 0.9438 - val_recall: 0.9438 - val_precision: 0.9438\n",
            "Epoch 51/100\n",
            "20/20 [==============================] - 14s 662ms/step - loss: 0.0585 - accuracy: 0.9859 - categorical_accuracy: 0.9859 - recall: 0.9859 - precision: 0.9859 - val_loss: 1.5937 - val_accuracy: 0.6687 - val_categorical_accuracy: 0.6687 - val_recall: 0.6687 - val_precision: 0.6687\n",
            "Epoch 52/100\n",
            "20/20 [==============================] - 13s 603ms/step - loss: 0.0685 - accuracy: 0.9828 - categorical_accuracy: 0.9828 - recall: 0.9828 - precision: 0.9828 - val_loss: 0.2176 - val_accuracy: 0.9375 - val_categorical_accuracy: 0.9375 - val_recall: 0.9375 - val_precision: 0.9375\n",
            "Epoch 53/100\n",
            "20/20 [==============================] - 14s 663ms/step - loss: 0.0066 - accuracy: 0.9984 - categorical_accuracy: 0.9984 - recall: 0.9984 - precision: 0.9984 - val_loss: 0.1111 - val_accuracy: 0.9625 - val_categorical_accuracy: 0.9625 - val_recall: 0.9625 - val_precision: 0.9625\n",
            "Epoch 54/100\n",
            "20/20 [==============================] - 12s 580ms/step - loss: 0.0045 - accuracy: 0.9984 - categorical_accuracy: 0.9984 - recall: 0.9984 - precision: 0.9984 - val_loss: 0.0865 - val_accuracy: 0.9750 - val_categorical_accuracy: 0.9750 - val_recall: 0.9750 - val_precision: 0.9750\n",
            "Epoch 55/100\n",
            "20/20 [==============================] - 13s 594ms/step - loss: 0.0018 - accuracy: 1.0000 - categorical_accuracy: 1.0000 - recall: 1.0000 - precision: 1.0000 - val_loss: 0.0898 - val_accuracy: 0.9688 - val_categorical_accuracy: 0.9688 - val_recall: 0.9688 - val_precision: 0.9688\n",
            "Epoch 56/100\n",
            "20/20 [==============================] - 13s 621ms/step - loss: 0.0017 - accuracy: 1.0000 - categorical_accuracy: 1.0000 - recall: 1.0000 - precision: 1.0000 - val_loss: 0.0860 - val_accuracy: 0.9750 - val_categorical_accuracy: 0.9750 - val_recall: 0.9750 - val_precision: 0.9750\n",
            "Epoch 57/100\n",
            "20/20 [==============================] - 14s 675ms/step - loss: 0.0022 - accuracy: 1.0000 - categorical_accuracy: 1.0000 - recall: 1.0000 - precision: 1.0000 - val_loss: 0.0853 - val_accuracy: 0.9750 - val_categorical_accuracy: 0.9750 - val_recall: 0.9750 - val_precision: 0.9750\n",
            "Epoch 58/100\n",
            "20/20 [==============================] - 12s 577ms/step - loss: 0.0033 - accuracy: 0.9984 - categorical_accuracy: 0.9984 - recall: 0.9984 - precision: 0.9984 - val_loss: 0.0847 - val_accuracy: 0.9750 - val_categorical_accuracy: 0.9750 - val_recall: 0.9750 - val_precision: 0.9750\n",
            "Epoch 59/100\n",
            "20/20 [==============================] - 12s 582ms/step - loss: 0.0020 - accuracy: 1.0000 - categorical_accuracy: 1.0000 - recall: 1.0000 - precision: 1.0000 - val_loss: 0.0884 - val_accuracy: 0.9812 - val_categorical_accuracy: 0.9812 - val_recall: 0.9812 - val_precision: 0.9812\n",
            "Epoch 60/100\n",
            "20/20 [==============================] - 13s 615ms/step - loss: 0.0012 - accuracy: 1.0000 - categorical_accuracy: 1.0000 - recall: 1.0000 - precision: 1.0000 - val_loss: 0.0939 - val_accuracy: 0.9812 - val_categorical_accuracy: 0.9812 - val_recall: 0.9812 - val_precision: 0.9812\n",
            "Epoch 61/100\n",
            "20/20 [==============================] - 13s 625ms/step - loss: 0.0012 - accuracy: 1.0000 - categorical_accuracy: 1.0000 - recall: 1.0000 - precision: 1.0000 - val_loss: 0.1009 - val_accuracy: 0.9812 - val_categorical_accuracy: 0.9812 - val_recall: 0.9812 - val_precision: 0.9812\n",
            "Epoch 62/100\n",
            "20/20 [==============================] - 14s 668ms/step - loss: 0.0010 - accuracy: 1.0000 - categorical_accuracy: 1.0000 - recall: 1.0000 - precision: 1.0000 - val_loss: 0.1134 - val_accuracy: 0.9812 - val_categorical_accuracy: 0.9812 - val_recall: 0.9812 - val_precision: 0.9812\n",
            "Epoch 63/100\n",
            "20/20 [==============================] - 14s 655ms/step - loss: 0.0019 - accuracy: 1.0000 - categorical_accuracy: 1.0000 - recall: 1.0000 - precision: 1.0000 - val_loss: 0.2317 - val_accuracy: 0.9438 - val_categorical_accuracy: 0.9438 - val_recall: 0.9438 - val_precision: 0.9438\n",
            "Epoch 64/100\n",
            "20/20 [==============================] - 12s 571ms/step - loss: 0.0341 - accuracy: 0.9953 - categorical_accuracy: 0.9953 - recall: 0.9953 - precision: 0.9953 - val_loss: 0.4851 - val_accuracy: 0.9187 - val_categorical_accuracy: 0.9187 - val_recall: 0.9187 - val_precision: 0.9187\n",
            "Epoch 65/100\n",
            "20/20 [==============================] - 13s 594ms/step - loss: 0.0304 - accuracy: 0.9906 - categorical_accuracy: 0.9906 - recall: 0.9906 - precision: 0.9906 - val_loss: 0.2731 - val_accuracy: 0.9062 - val_categorical_accuracy: 0.9062 - val_recall: 0.9062 - val_precision: 0.9062\n",
            "Epoch 66/100\n",
            "20/20 [==============================] - 13s 606ms/step - loss: 0.0445 - accuracy: 0.9812 - categorical_accuracy: 0.9812 - recall: 0.9812 - precision: 0.9812 - val_loss: 0.9672 - val_accuracy: 0.4875 - val_categorical_accuracy: 0.4875 - val_recall: 0.4875 - val_precision: 0.4875\n",
            "Epoch 67/100\n",
            "20/20 [==============================] - 13s 603ms/step - loss: 0.0475 - accuracy: 0.9859 - categorical_accuracy: 0.9859 - recall: 0.9859 - precision: 0.9859 - val_loss: 1.0454 - val_accuracy: 0.7875 - val_categorical_accuracy: 0.7875 - val_recall: 0.7875 - val_precision: 0.7875\n",
            "Epoch 68/100\n",
            "20/20 [==============================] - 12s 588ms/step - loss: 0.0549 - accuracy: 0.9859 - categorical_accuracy: 0.9859 - recall: 0.9859 - precision: 0.9859 - val_loss: 2.1152 - val_accuracy: 0.6250 - val_categorical_accuracy: 0.6250 - val_recall: 0.6250 - val_precision: 0.6250\n",
            "Epoch 69/100\n",
            "20/20 [==============================] - 12s 580ms/step - loss: 0.0271 - accuracy: 0.9922 - categorical_accuracy: 0.9922 - recall: 0.9922 - precision: 0.9922 - val_loss: 1.2938 - val_accuracy: 0.7312 - val_categorical_accuracy: 0.7312 - val_recall: 0.7312 - val_precision: 0.7312\n",
            "Epoch 70/100\n",
            "20/20 [==============================] - 13s 595ms/step - loss: 0.0224 - accuracy: 0.9937 - categorical_accuracy: 0.9937 - recall: 0.9937 - precision: 0.9937 - val_loss: 1.6535 - val_accuracy: 0.7000 - val_categorical_accuracy: 0.7000 - val_recall: 0.7000 - val_precision: 0.7000\n",
            "Epoch 71/100\n",
            "20/20 [==============================] - 13s 598ms/step - loss: 0.0030 - accuracy: 1.0000 - categorical_accuracy: 1.0000 - recall: 1.0000 - precision: 1.0000 - val_loss: 0.9034 - val_accuracy: 0.8188 - val_categorical_accuracy: 0.8188 - val_recall: 0.8188 - val_precision: 0.8188\n",
            "Epoch 72/100\n",
            "20/20 [==============================] - 12s 578ms/step - loss: 0.0038 - accuracy: 0.9984 - categorical_accuracy: 0.9984 - recall: 0.9984 - precision: 0.9984 - val_loss: 0.3427 - val_accuracy: 0.9375 - val_categorical_accuracy: 0.9375 - val_recall: 0.9375 - val_precision: 0.9375\n",
            "Epoch 73/100\n",
            "20/20 [==============================] - 13s 599ms/step - loss: 0.0016 - accuracy: 1.0000 - categorical_accuracy: 1.0000 - recall: 1.0000 - precision: 1.0000 - val_loss: 0.3074 - val_accuracy: 0.9312 - val_categorical_accuracy: 0.9312 - val_recall: 0.9312 - val_precision: 0.9312\n",
            "Epoch 74/100\n",
            "20/20 [==============================] - 13s 594ms/step - loss: 0.0011 - accuracy: 1.0000 - categorical_accuracy: 1.0000 - recall: 1.0000 - precision: 1.0000 - val_loss: 0.2468 - val_accuracy: 0.9375 - val_categorical_accuracy: 0.9375 - val_recall: 0.9375 - val_precision: 0.9375\n",
            "Epoch 75/100\n",
            "20/20 [==============================] - 14s 666ms/step - loss: 0.0012 - accuracy: 1.0000 - categorical_accuracy: 1.0000 - recall: 1.0000 - precision: 1.0000 - val_loss: 0.2056 - val_accuracy: 0.9500 - val_categorical_accuracy: 0.9500 - val_recall: 0.9500 - val_precision: 0.9500\n",
            "Epoch 76/100\n",
            "20/20 [==============================] - 13s 604ms/step - loss: 9.1057e-04 - accuracy: 1.0000 - categorical_accuracy: 1.0000 - recall: 1.0000 - precision: 1.0000 - val_loss: 0.1813 - val_accuracy: 0.9563 - val_categorical_accuracy: 0.9563 - val_recall: 0.9563 - val_precision: 0.9563\n",
            "Epoch 77/100\n",
            "20/20 [==============================] - 13s 603ms/step - loss: 8.5961e-04 - accuracy: 1.0000 - categorical_accuracy: 1.0000 - recall: 1.0000 - precision: 1.0000 - val_loss: 0.1703 - val_accuracy: 0.9563 - val_categorical_accuracy: 0.9563 - val_recall: 0.9563 - val_precision: 0.9563\n",
            "Epoch 78/100\n",
            "20/20 [==============================] - 12s 577ms/step - loss: 0.0013 - accuracy: 1.0000 - categorical_accuracy: 1.0000 - recall: 1.0000 - precision: 1.0000 - val_loss: 0.1101 - val_accuracy: 0.9563 - val_categorical_accuracy: 0.9563 - val_recall: 0.9563 - val_precision: 0.9563\n",
            "Epoch 79/100\n",
            "20/20 [==============================] - 13s 601ms/step - loss: 7.5456e-04 - accuracy: 1.0000 - categorical_accuracy: 1.0000 - recall: 1.0000 - precision: 1.0000 - val_loss: 0.0861 - val_accuracy: 0.9812 - val_categorical_accuracy: 0.9812 - val_recall: 0.9812 - val_precision: 0.9812\n",
            "Epoch 80/100\n",
            "20/20 [==============================] - 13s 624ms/step - loss: 8.6185e-04 - accuracy: 1.0000 - categorical_accuracy: 1.0000 - recall: 1.0000 - precision: 1.0000 - val_loss: 0.0884 - val_accuracy: 0.9750 - val_categorical_accuracy: 0.9750 - val_recall: 0.9750 - val_precision: 0.9750\n",
            "Epoch 81/100\n",
            "20/20 [==============================] - 13s 615ms/step - loss: 6.8230e-04 - accuracy: 1.0000 - categorical_accuracy: 1.0000 - recall: 1.0000 - precision: 1.0000 - val_loss: 0.0925 - val_accuracy: 0.9750 - val_categorical_accuracy: 0.9750 - val_recall: 0.9750 - val_precision: 0.9750\n",
            "Epoch 82/100\n",
            "20/20 [==============================] - 12s 578ms/step - loss: 6.9587e-04 - accuracy: 1.0000 - categorical_accuracy: 1.0000 - recall: 1.0000 - precision: 1.0000 - val_loss: 0.1001 - val_accuracy: 0.9688 - val_categorical_accuracy: 0.9688 - val_recall: 0.9688 - val_precision: 0.9688\n",
            "Epoch 83/100\n",
            "20/20 [==============================] - 12s 587ms/step - loss: 5.6904e-04 - accuracy: 1.0000 - categorical_accuracy: 1.0000 - recall: 1.0000 - precision: 1.0000 - val_loss: 0.1048 - val_accuracy: 0.9688 - val_categorical_accuracy: 0.9688 - val_recall: 0.9688 - val_precision: 0.9688\n",
            "Epoch 84/100\n",
            "20/20 [==============================] - 13s 620ms/step - loss: 5.5187e-04 - accuracy: 1.0000 - categorical_accuracy: 1.0000 - recall: 1.0000 - precision: 1.0000 - val_loss: 0.1109 - val_accuracy: 0.9688 - val_categorical_accuracy: 0.9688 - val_recall: 0.9688 - val_precision: 0.9688\n",
            "Epoch 85/100\n",
            "20/20 [==============================] - 12s 585ms/step - loss: 5.4922e-04 - accuracy: 1.0000 - categorical_accuracy: 1.0000 - recall: 1.0000 - precision: 1.0000 - val_loss: 0.1102 - val_accuracy: 0.9688 - val_categorical_accuracy: 0.9688 - val_recall: 0.9688 - val_precision: 0.9688\n",
            "Epoch 86/100\n",
            "20/20 [==============================] - 13s 594ms/step - loss: 5.2032e-04 - accuracy: 1.0000 - categorical_accuracy: 1.0000 - recall: 1.0000 - precision: 1.0000 - val_loss: 0.1095 - val_accuracy: 0.9688 - val_categorical_accuracy: 0.9688 - val_recall: 0.9688 - val_precision: 0.9688\n",
            "Epoch 87/100\n",
            "20/20 [==============================] - 12s 590ms/step - loss: 4.9077e-04 - accuracy: 1.0000 - categorical_accuracy: 1.0000 - recall: 1.0000 - precision: 1.0000 - val_loss: 0.1100 - val_accuracy: 0.9688 - val_categorical_accuracy: 0.9688 - val_recall: 0.9688 - val_precision: 0.9688\n",
            "Epoch 88/100\n",
            "20/20 [==============================] - 12s 584ms/step - loss: 4.4117e-04 - accuracy: 1.0000 - categorical_accuracy: 1.0000 - recall: 1.0000 - precision: 1.0000 - val_loss: 0.1109 - val_accuracy: 0.9688 - val_categorical_accuracy: 0.9688 - val_recall: 0.9688 - val_precision: 0.9688\n",
            "Epoch 89/100\n",
            "20/20 [==============================] - 12s 583ms/step - loss: 0.0113 - accuracy: 0.9969 - categorical_accuracy: 0.9969 - recall: 0.9969 - precision: 0.9969 - val_loss: 0.1254 - val_accuracy: 0.9688 - val_categorical_accuracy: 0.9688 - val_recall: 0.9688 - val_precision: 0.9688\n",
            "Epoch 90/100\n",
            "20/20 [==============================] - 12s 593ms/step - loss: 0.0243 - accuracy: 0.9937 - categorical_accuracy: 0.9937 - recall: 0.9937 - precision: 0.9937 - val_loss: 0.3220 - val_accuracy: 0.9375 - val_categorical_accuracy: 0.9375 - val_recall: 0.9375 - val_precision: 0.9375\n",
            "Epoch 91/100\n",
            "20/20 [==============================] - 13s 599ms/step - loss: 0.0187 - accuracy: 0.9937 - categorical_accuracy: 0.9937 - recall: 0.9937 - precision: 0.9937 - val_loss: 0.3533 - val_accuracy: 0.9438 - val_categorical_accuracy: 0.9438 - val_recall: 0.9438 - val_precision: 0.9438\n",
            "Epoch 92/100\n",
            "20/20 [==============================] - 13s 605ms/step - loss: 0.0334 - accuracy: 0.9937 - categorical_accuracy: 0.9937 - recall: 0.9937 - precision: 0.9937 - val_loss: 0.3052 - val_accuracy: 0.9438 - val_categorical_accuracy: 0.9438 - val_recall: 0.9438 - val_precision: 0.9438\n",
            "Epoch 93/100\n",
            "20/20 [==============================] - 13s 599ms/step - loss: 0.1032 - accuracy: 0.9656 - categorical_accuracy: 0.9656 - recall: 0.9656 - precision: 0.9656 - val_loss: 0.6555 - val_accuracy: 0.6812 - val_categorical_accuracy: 0.6812 - val_recall: 0.6812 - val_precision: 0.6812\n",
            "Epoch 94/100\n",
            "20/20 [==============================] - 13s 594ms/step - loss: 0.0946 - accuracy: 0.9625 - categorical_accuracy: 0.9625 - recall: 0.9625 - precision: 0.9625 - val_loss: 2.8847 - val_accuracy: 0.4938 - val_categorical_accuracy: 0.4938 - val_recall: 0.4938 - val_precision: 0.4938\n",
            "Epoch 95/100\n",
            "20/20 [==============================] - 13s 609ms/step - loss: 0.0538 - accuracy: 0.9859 - categorical_accuracy: 0.9859 - recall: 0.9859 - precision: 0.9859 - val_loss: 2.9537 - val_accuracy: 0.5063 - val_categorical_accuracy: 0.5063 - val_recall: 0.5063 - val_precision: 0.5063\n",
            "Epoch 96/100\n",
            "20/20 [==============================] - 14s 660ms/step - loss: 0.0269 - accuracy: 0.9922 - categorical_accuracy: 0.9922 - recall: 0.9922 - precision: 0.9922 - val_loss: 2.3496 - val_accuracy: 0.6062 - val_categorical_accuracy: 0.6062 - val_recall: 0.6062 - val_precision: 0.6062\n",
            "Epoch 97/100\n",
            "20/20 [==============================] - 12s 574ms/step - loss: 0.0425 - accuracy: 0.9906 - categorical_accuracy: 0.9906 - recall: 0.9906 - precision: 0.9906 - val_loss: 2.5856 - val_accuracy: 0.5562 - val_categorical_accuracy: 0.5562 - val_recall: 0.5562 - val_precision: 0.5562\n",
            "Epoch 98/100\n",
            "20/20 [==============================] - 12s 592ms/step - loss: 0.0144 - accuracy: 0.9969 - categorical_accuracy: 0.9969 - recall: 0.9969 - precision: 0.9969 - val_loss: 1.7470 - val_accuracy: 0.6500 - val_categorical_accuracy: 0.6500 - val_recall: 0.6500 - val_precision: 0.6500\n",
            "Epoch 99/100\n",
            "20/20 [==============================] - 13s 601ms/step - loss: 0.0112 - accuracy: 0.9984 - categorical_accuracy: 0.9984 - recall: 0.9984 - precision: 0.9984 - val_loss: 0.2707 - val_accuracy: 0.9187 - val_categorical_accuracy: 0.9187 - val_recall: 0.9187 - val_precision: 0.9187\n",
            "Epoch 100/100\n",
            "20/20 [==============================] - 14s 651ms/step - loss: 0.0105 - accuracy: 0.9969 - categorical_accuracy: 0.9969 - recall: 0.9969 - precision: 0.9969 - val_loss: 0.4196 - val_accuracy: 0.8875 - val_categorical_accuracy: 0.8875 - val_recall: 0.8875 - val_precision: 0.8875\n"
          ]
        }
      ]
    },
    {
      "cell_type": "code",
      "source": [
        "save_directory='/content/drive/My Drive/IndoorOutdoorClassification/xception_dropout.h5'\n",
        "model1.save(save_directory)"
      ],
      "metadata": {
        "id": "hl_AJchO0g5k"
      },
      "execution_count": null,
      "outputs": []
    },
    {
      "cell_type": "code",
      "source": [
        "import numpy as np"
      ],
      "metadata": {
        "id": "M6JTQjJD9Yku"
      },
      "execution_count": null,
      "outputs": []
    },
    {
      "cell_type": "code",
      "source": [
        "def predict_image_softmax(model, path: str,  size_x: int = 224, size_y: int = 224):\n",
        "  img = cv2.imread(path)\n",
        "  img = cv2.resize(img, (size_x, size_y))\n",
        "  img = np.expand_dims(img, axis=0)\n",
        "  return model.predict(img, verbose=False)[0]"
      ],
      "metadata": {
        "id": "FdxFxbkc0kBk"
      },
      "execution_count": null,
      "outputs": []
    },
    {
      "cell_type": "code",
      "source": [
        "prediction_dir = '/content/drive/My Drive/IndoorOutdoorClassification/prediction_images/'\n",
        "cnt_zero = 0\n",
        "cnt_one = 0\n",
        "imgs = os.listdir(prediction_dir)\n",
        "\n",
        "for img in imgs:\n",
        "  # try:\n",
        "    prediction = predict_image_softmax(model1,f'{prediction_dir}/{img}')\n",
        "    print(f'{img} - {prediction} - {\"indoor\" if prediction[0]>=prediction[1] else \"outdoor\"}')\n",
        "    if(prediction[0]>=prediction[1]):\n",
        "      cnt_zero += 1\n",
        "    else:\n",
        "        cnt_one += 1\n",
        "  # except Exception:\n",
        "  #   print('except')\n",
        "print(f\"Class zero: {cnt_zero} \\n Class one: {cnt_one}\")"
      ],
      "metadata": {
        "colab": {
          "base_uri": "https://localhost:8080/"
        },
        "id": "0veaH9xl9HUf",
        "outputId": "e51b4191-749f-493b-e662-0ab56b53ea91"
      },
      "execution_count": null,
      "outputs": [
        {
          "output_type": "stream",
          "name": "stdout",
          "text": [
            "indoor1.jpg - [9.9920964e-01 7.9036446e-04] - indoor\n",
            "indoor2.jpg - [0.99611497 0.00388503] - indoor\n",
            "outdoor1.jpg - [0.00740838 0.9925916 ] - outdoor\n",
            "outdoor2.jpg - [9.9922454e-01 7.7548122e-04] - indoor\n",
            "outdoor3.jpg - [0.991178   0.00882195] - indoor\n",
            "outdoor4.jpg - [0.9919574  0.00804254] - indoor\n",
            "indoor3.jpg - [0.9986255  0.00137454] - indoor\n",
            "indoor4.jpg - [9.9925345e-01 7.4654637e-04] - indoor\n",
            "Class zero: 7 \n",
            " Class one: 1\n"
          ]
        }
      ]
    },
    {
      "cell_type": "code",
      "source": [],
      "metadata": {
        "id": "GHNbOM6q9QjT"
      },
      "execution_count": null,
      "outputs": []
    }
  ]
}